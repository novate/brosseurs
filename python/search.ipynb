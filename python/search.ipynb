{
 "cells": [
  {
   "cell_type": "markdown",
   "metadata": {},
   "source": [
    "# Search"
   ]
  },
  {
   "cell_type": "markdown",
   "metadata": {},
   "source": [
    "* The key to the status of DFS is current path.\n",
    "* DFS <-> DP Top Down <-> Memoization Table <-> Recursion\n",
    "    * When finding all possible routes, we should use DFS to touch every end, i.e. [Word Break II](https://leetcode.com/problems/word-break-ii/).\n",
    "\n",
    "\n",
    "* The key to the status of BFS is level.\n",
    "* BFS <-> DP Bottom Up <-> Growing Table"
   ]
  },
  {
   "cell_type": "markdown",
   "metadata": {},
   "source": [
    "## Pre-run"
   ]
  },
  {
   "cell_type": "code",
   "execution_count": null,
   "metadata": {
    "ExecuteTime": {
     "end_time": "2020-02-26T08:26:44.957816Z",
     "start_time": "2020-02-26T08:26:44.952828Z"
    }
   },
   "outputs": [],
   "source": [
    "from typing import List\n",
    "from helpers.misc import *"
   ]
  },
  {
   "cell_type": "markdown",
   "metadata": {},
   "source": [
    "## 17 [Letter Combinations of a Phone Number](https://leetcode.com/problems/letter-combinations-of-a-phone-number/) - M"
   ]
  },
  {
   "cell_type": "markdown",
   "metadata": {},
   "source": [
    "### BFS"
   ]
  },
  {
   "cell_type": "markdown",
   "metadata": {},
   "source": [
    "* Runtime: 28 ms, faster than 67.82% of Python3 online submissions for Letter Combinations of a Phone Number.\n",
    "* Memory Usage: 12.7 MB, less than 100.00% of Python3 online submissions for Letter Combinations of a Phone Number."
   ]
  },
  {
   "cell_type": "code",
   "execution_count": null,
   "metadata": {
    "ExecuteTime": {
     "end_time": "2020-02-26T08:26:54.278177Z",
     "start_time": "2020-02-26T08:26:54.271175Z"
    }
   },
   "outputs": [],
   "source": [
    "class Solution:\n",
    "    def letterCombinations(self, digits: str) -> List[str]:\n",
    "        '''Given a string containing digits from 2-9 inclusive, return all possible letter combinations that the number could represent.'''\n",
    "        # no digit\n",
    "        if not digits:\n",
    "            return []\n",
    "        key_map = {\n",
    "            2 : ['a', 'b', 'c'],\n",
    "            3 : ['d', 'e', 'f'],\n",
    "            4 : ['g', 'h', 'i'],\n",
    "            5 : ['j', 'k', 'l'],\n",
    "            6 : ['m', 'n', 'o'],\n",
    "            7 : ['p', 'q', 'r', 's'],\n",
    "            8 : ['t', 'u', 'v'],\n",
    "            9 : ['w', 'x', 'y', 'z']\n",
    "        }\n",
    "        ans = ['']\n",
    "        for d in digits:\n",
    "            new_ans = [x+y for x in ans for y in key_map[int(d)]]\n",
    "            ans = new_ans\n",
    "        return ans"
   ]
  },
  {
   "cell_type": "code",
   "execution_count": null,
   "metadata": {
    "ExecuteTime": {
     "end_time": "2020-02-26T08:27:05.114980Z",
     "start_time": "2020-02-26T08:27:05.110970Z"
    }
   },
   "outputs": [],
   "source": [
    "# test\n",
    "eq(Solution().letterCombinations(\"293\"), ['awd', 'awe', 'awf', 'axd', 'axe', 'axf', 'ayd', 'aye', 'ayf', 'azd', 'aze', 'azf', 'bwd', 'bwe', 'bwf', 'bxd', 'bxe', 'bxf', 'byd', 'bye', 'byf', 'bzd', 'bze', 'bzf', 'cwd', 'cwe', 'cwf', 'cxd', 'cxe', 'cxf', 'cyd', 'cye', 'cyf', 'czd', 'cze', 'czf'])"
   ]
  },
  {
   "cell_type": "markdown",
   "metadata": {},
   "source": [
    "### DFS (Backtracking)"
   ]
  },
  {
   "cell_type": "markdown",
   "metadata": {},
   "source": [
    "* Runtime: 44 ms, faster than 6.92% of Python3 online submissions for Letter Combinations of a Phone Number.\n",
    "* Memory Usage: 12.8 MB, less than 98.53% of Python3 online submissions for Letter Combinations of a Phone Number."
   ]
  },
  {
   "cell_type": "code",
   "execution_count": null,
   "metadata": {
    "ExecuteTime": {
     "end_time": "2020-02-26T08:27:18.342554Z",
     "start_time": "2020-02-26T08:27:18.335554Z"
    }
   },
   "outputs": [],
   "source": [
    "class Solution:\n",
    "    def letterCombinations(self, digits: str) -> List[str]:\n",
    "        '''Given a string containing digits from 2-9 inclusive, return all possible letter combinations that the number could represent.'''\n",
    "        key_map = {\n",
    "            2 : ['a', 'b', 'c'],\n",
    "            3 : ['d', 'e', 'f'],\n",
    "            4 : ['g', 'h', 'i'],\n",
    "            5 : ['j', 'k', 'l'],\n",
    "            6 : ['m', 'n', 'o'],\n",
    "            7 : ['p', 'q', 'r', 's'],\n",
    "            8 : ['t', 'u', 'v'],\n",
    "            9 : ['w', 'x', 'y', 'z']\n",
    "        }\n",
    "        ans = []\n",
    "        \n",
    "        def dfs(track: str, digits: str) -> None:\n",
    "            '''Do DFS search in backtracking method\n",
    "            \n",
    "            track:  Current track\n",
    "            digits: Digits to parse\n",
    "            '''\n",
    "            # no digit for parsing, take the result\n",
    "            if not digits:\n",
    "                ans.append(track)\n",
    "            else:\n",
    "                # parse the first digit\n",
    "                for ch in key_map[int(digits[0])]:\n",
    "                    dfs(track+ch, digits[1:])\n",
    "        \n",
    "        # no digit causes empty answer\n",
    "        if digits:\n",
    "            dfs(\"\", digits)\n",
    "        return ans"
   ]
  },
  {
   "cell_type": "code",
   "execution_count": null,
   "metadata": {
    "ExecuteTime": {
     "end_time": "2020-02-26T08:27:20.333075Z",
     "start_time": "2020-02-26T08:27:20.328044Z"
    }
   },
   "outputs": [],
   "source": [
    "# test\n",
    "eq(Solution().letterCombinations(\"293\"), ['awd', 'awe', 'awf', 'axd', 'axe', 'axf', 'ayd', 'aye', 'ayf', 'azd', 'aze', 'azf', 'bwd', 'bwe', 'bwf', 'bxd', 'bxe', 'bxf', 'byd', 'bye', 'byf', 'bzd', 'bze', 'bzf', 'cwd', 'cwe', 'cwf', 'cxd', 'cxe', 'cxf', 'cyd', 'cye', 'cyf', 'czd', 'cze', 'czf'])"
   ]
  },
  {
   "cell_type": "markdown",
   "metadata": {},
   "source": [
    "## 39 [Combination Sum](https://leetcode.com/problems/combination-sum/) - M"
   ]
  },
  {
   "cell_type": "markdown",
   "metadata": {},
   "source": [
    "### DFS"
   ]
  },
  {
   "cell_type": "markdown",
   "metadata": {},
   "source": [
    "* Runtime: 84 ms, faster than 52.18% of Python3 online submissions for Combination Sum.\n",
    "* Memory Usage: 12.8 MB, less than 100.00% of Python3 online submissions for Combination Sum."
   ]
  },
  {
   "cell_type": "code",
   "execution_count": null,
   "metadata": {
    "ExecuteTime": {
     "end_time": "2020-02-26T08:27:23.982288Z",
     "start_time": "2020-02-26T08:27:23.975305Z"
    }
   },
   "outputs": [],
   "source": [
    "class Solution:\n",
    "    def combinationSum(self, candidates: List[int], target: int) -> List[List[int]]:\n",
    "        '''Given a set of candidate numbers (candidates) (without duplicates) and a target number (target), find all unique combinations in candidates where the candidate numbers sums to target.'''\n",
    "        res = []\n",
    "        \n",
    "        def dfs(current: List[int], candidates: List[int], target: int):\n",
    "            '''DFS way to find the result.\n",
    "            \n",
    "            current:    current answer\n",
    "            candidates: candidates of numbers\n",
    "            target:     target number\n",
    "            '''\n",
    "            # no possible result\n",
    "            if target < 0:\n",
    "                pass\n",
    "            # result found\n",
    "            elif target == 0:\n",
    "                res.append(current)\n",
    "            else:\n",
    "                # TRICK: prevent duplicate combinations\n",
    "                for i, candidate in enumerate(candidates):\n",
    "                    dfs(current+[candidate], candidates[i:], target-candidate)\n",
    "                    \n",
    "        dfs([], candidates, target)\n",
    "        return res"
   ]
  },
  {
   "cell_type": "code",
   "execution_count": null,
   "metadata": {
    "ExecuteTime": {
     "end_time": "2020-02-26T08:29:24.908498Z",
     "start_time": "2020-02-26T08:29:24.903511Z"
    }
   },
   "outputs": [],
   "source": [
    "# test\n",
    "eq(len(Solution().combinationSum([2,3,6,7], 7)), len([[7], [2,2,3]]))"
   ]
  }
 ],
 "metadata": {
  "file_extension": ".py",
  "kernelspec": {
   "display_name": "Python 3.8.1 64-bit",
   "language": "python",
   "name": "python38164bit95e09ab6981f4880a839b2c4c80e8cb6"
  },
  "language_info": {
   "codemirror_mode": {
    "name": "ipython",
    "version": 3
   },
   "file_extension": ".py",
   "mimetype": "text/x-python",
   "name": "python",
   "nbconvert_exporter": "python",
   "pygments_lexer": "ipython3",
   "version": "3.8.1"
  },
  "mimetype": "text/x-python",
  "name": "python",
  "npconvert_exporter": "python",
  "pygments_lexer": "ipython3",
  "toc": {
   "base_numbering": 1,
   "nav_menu": {
    "height": "130px",
    "width": "160px"
   },
   "number_sections": false,
   "sideBar": true,
   "skip_h1_title": false,
   "title_cell": "Table of Contents",
   "title_sidebar": "Contents",
   "toc_cell": false,
   "toc_position": {},
   "toc_section_display": true,
   "toc_window_display": true
  },
  "version": 3
 },
 "nbformat": 4,
 "nbformat_minor": 2
}
