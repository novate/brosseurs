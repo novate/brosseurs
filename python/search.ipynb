{
 "cells": [
  {
   "cell_type": "markdown",
   "metadata": {},
   "source": [
    "# Search"
   ]
  },
  {
   "cell_type": "markdown",
   "metadata": {},
   "source": [
    "* The key to the status of DFS is current path.\n",
    "* DFS <-> DP Top Down <-> Memoization Table <-> Recursion\n",
    "    * When finding all possible routes, we should use DFS to touch every end, i.e. [Word Break II](https://leetcode.com/problems/word-break-ii/).\n",
    "\n",
    "\n",
    "* The key to the status of BFS is level.\n",
    "* BFS <-> DP Bottom Up <-> Growing Table"
   ]
  },
  {
   "cell_type": "markdown",
   "metadata": {},
   "source": [
    "## Pre-run"
   ]
  },
  {
   "cell_type": "code",
   "execution_count": null,
   "metadata": {
    "ExecuteTime": {
     "end_time": "2020-02-20T10:54:43.660959Z",
     "start_time": "2020-02-20T10:54:43.657500Z"
    }
   },
   "outputs": [],
   "source": [
    "from typing import List"
   ]
  },
  {
   "cell_type": "markdown",
   "metadata": {},
   "source": [
    "## 17 [Letter Combinations of a Phone Number](https://leetcode.com/problems/letter-combinations-of-a-phone-number/) - M"
   ]
  },
  {
   "cell_type": "markdown",
   "metadata": {},
   "source": [
    "### BFS"
   ]
  },
  {
   "cell_type": "markdown",
   "metadata": {},
   "source": [
    "* Runtime: 28 ms, faster than 67.82% of Python3 online submissions for Letter Combinations of a Phone Number.\n",
    "* Memory Usage: 12.7 MB, less than 100.00% of Python3 online submissions for Letter Combinations of a Phone Number."
   ]
  },
  {
   "cell_type": "code",
   "execution_count": null,
   "metadata": {
    "ExecuteTime": {
     "end_time": "2020-02-20T10:54:43.735579Z",
     "start_time": "2020-02-20T10:54:43.727592Z"
    }
   },
   "outputs": [],
   "source": [
    "class Solution:\n",
    "    def letterCombinations(self, digits: str) -> List[str]:\n",
    "        '''Given a string containing digits from 2-9 inclusive, return all possible letter combinations that the number could represent.'''\n",
    "        # no digit\n",
    "        if not digits:\n",
    "            return []\n",
    "        key_map = {\n",
    "            2 : ['a', 'b', 'c'],\n",
    "            3 : ['d', 'e', 'f'],\n",
    "            4 : ['g', 'h', 'i'],\n",
    "            5 : ['j', 'k', 'l'],\n",
    "            6 : ['m', 'n', 'o'],\n",
    "            7 : ['p', 'q', 'r', 's'],\n",
    "            8 : ['t', 'u', 'v'],\n",
    "            9 : ['w', 'x', 'y', 'z']\n",
    "        }\n",
    "        ans = ['']\n",
    "        for d in digits:\n",
    "            new_ans = [x+y for x in ans for y in key_map[int(d)]]\n",
    "            ans = new_ans\n",
    "        return ans"
   ]
  },
  {
   "cell_type": "code",
   "execution_count": null,
   "metadata": {
    "ExecuteTime": {
     "end_time": "2020-02-20T10:54:43.745612Z",
     "start_time": "2020-02-20T10:54:43.737580Z"
    }
   },
   "outputs": [],
   "source": [
    "# test\n",
    "print(Solution().letterCombinations(\"293\"))"
   ]
  },
  {
   "cell_type": "markdown",
   "metadata": {},
   "source": [
    "### DFS (Backtracking)"
   ]
  },
  {
   "cell_type": "markdown",
   "metadata": {},
   "source": [
    "* Runtime: 44 ms, faster than 6.92% of Python3 online submissions for Letter Combinations of a Phone Number.\n",
    "* Memory Usage: 12.8 MB, less than 98.53% of Python3 online submissions for Letter Combinations of a Phone Number."
   ]
  },
  {
   "cell_type": "code",
   "execution_count": null,
   "metadata": {
    "ExecuteTime": {
     "end_time": "2020-02-20T10:54:43.784614Z",
     "start_time": "2020-02-20T10:54:43.774582Z"
    }
   },
   "outputs": [],
   "source": [
    "class Solution:\n",
    "    def letterCombinations(self, digits: str) -> List[str]:\n",
    "        '''Given a string containing digits from 2-9 inclusive, return all possible letter combinations that the number could represent.'''\n",
    "        key_map = {\n",
    "            2 : ['a', 'b', 'c'],\n",
    "            3 : ['d', 'e', 'f'],\n",
    "            4 : ['g', 'h', 'i'],\n",
    "            5 : ['j', 'k', 'l'],\n",
    "            6 : ['m', 'n', 'o'],\n",
    "            7 : ['p', 'q', 'r', 's'],\n",
    "            8 : ['t', 'u', 'v'],\n",
    "            9 : ['w', 'x', 'y', 'z']\n",
    "        }\n",
    "        ans = []\n",
    "        \n",
    "        def dfs(track: str, digits: str) -> None:\n",
    "            '''Do DFS search in backtracking method\n",
    "            \n",
    "            track:  Current track\n",
    "            digits: Digits to parse\n",
    "            '''\n",
    "            # no digit for parsing, take the result\n",
    "            if not digits:\n",
    "                ans.append(track)\n",
    "            else:\n",
    "                # parse the first digit\n",
    "                for ch in key_map[int(digits[0])]:\n",
    "                    dfs(track+ch, digits[1:])\n",
    "        \n",
    "        # no digit causes empty answer\n",
    "        if digits:\n",
    "            dfs(\"\", digits)\n",
    "        return ans"
   ]
  },
  {
   "cell_type": "code",
   "execution_count": null,
   "metadata": {
    "ExecuteTime": {
     "end_time": "2020-02-20T10:54:43.790597Z",
     "start_time": "2020-02-20T10:54:43.786579Z"
    }
   },
   "outputs": [],
   "source": [
    "# test\n",
    "print(Solution().letterCombinations(\"293\"))"
   ]
  }
 ],
 "metadata": {
  "file_extension": ".py",
  "kernelspec": {
   "display_name": "Python 3.8.1 64-bit",
   "language": "python",
   "name": "python38164bit95e09ab6981f4880a839b2c4c80e8cb6"
  },
  "language_info": {
   "codemirror_mode": {
    "name": "ipython",
    "version": 3
   },
   "file_extension": ".py",
   "mimetype": "text/x-python",
   "name": "python",
   "nbconvert_exporter": "python",
   "pygments_lexer": "ipython3",
   "version": "3.8.1"
  },
  "mimetype": "text/x-python",
  "name": "python",
  "npconvert_exporter": "python",
  "pygments_lexer": "ipython3",
  "toc": {
   "base_numbering": 1,
   "nav_menu": {
    "height": "130px",
    "width": "160px"
   },
   "number_sections": false,
   "sideBar": true,
   "skip_h1_title": false,
   "title_cell": "Table of Contents",
   "title_sidebar": "Contents",
   "toc_cell": false,
   "toc_position": {},
   "toc_section_display": true,
   "toc_window_display": true
  },
  "version": 3
 },
 "nbformat": 4,
 "nbformat_minor": 2
}
