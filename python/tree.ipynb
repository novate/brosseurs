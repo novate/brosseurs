{
 "cells": [
  {
   "cell_type": "markdown",
   "metadata": {},
   "source": [
    "# Tree "
   ]
  },
  {
   "cell_type": "markdown",
   "metadata": {},
   "source": [
    "## Pre run "
   ]
  },
  {
   "cell_type": "code",
   "execution_count": null,
   "metadata": {
    "ExecuteTime": {
     "end_time": "2020-02-24T16:01:43.983990Z",
     "start_time": "2020-02-24T16:01:43.976972Z"
    }
   },
   "outputs": [],
   "source": [
    "from typing import List\n",
    "from helpers.misc import *\n",
    "from helpers.tree import *"
   ]
  },
  {
   "cell_type": "markdown",
   "metadata": {},
   "source": [
    "## Basics "
   ]
  },
  {
   "cell_type": "markdown",
   "metadata": {},
   "source": [
    "* **BFS**: Breadth First Search.\n",
    "* **DFS**: Depth First Search.\n",
    "    * **Preorder**: root -> left -> right\n",
    "    * **Inorder**: left -> root -> right\n",
    "    * **Postorder**: left -> right -> root"
   ]
  },
  {
   "cell_type": "code",
   "execution_count": null,
   "metadata": {
    "ExecuteTime": {
     "end_time": "2020-02-24T16:12:05.567216Z",
     "start_time": "2020-02-24T16:12:05.560216Z"
    }
   },
   "outputs": [],
   "source": [
    "class TreeOrders:\n",
    "    '''Do tree order using iteration.'''\n",
    "    \n",
    "#     def pre_order(self, root: TreeNode) -> List[int]:\n",
    "#         '''Do preorder for a tree.'''\n",
    "#         # sequence: self -> left -> right\n",
    "#         stack, traverse = [root], []\n",
    "#         while stack:\n",
    "#             # scan self\n",
    "#             root = stack.pop()\n",
    "#             traverse.append(root.val)\n",
    "#             if root.right:\n",
    "#                 stack.append(root.right)\n",
    "#             if root.left:\n",
    "#                 stack.append(root.left)\n",
    "#         return traverse\n",
    "    \n",
    "    def in_order(self, root: TreeNode) -> List[int]:\n",
    "        '''Do inorder for a tree.'''\n",
    "        # sequence: left -> self -> right\n",
    "        stack, traverse = [], []\n",
    "        while stack or root:\n",
    "            while root:\n",
    "                # scan left\n",
    "                stack.append(root)\n",
    "                root = root.left\n",
    "            # there is no left child for root\n",
    "            # scan itself\n",
    "            root = stack.pop()\n",
    "            traverse.append(root.val)\n",
    "            # scan right\n",
    "            root = root.right\n",
    "        return traverse\n",
    "\n",
    "#     def post_order(self, root: TreeNode) -> List[int]:\n",
    "#         '''Do postorder for a tree.'''\n",
    "#         # sequence: left -> right -> self\n",
    "#         stack, traverse = [], []\n",
    "#         while stack or root:\n",
    "#             while root:\n",
    "#                 # scan left\n",
    "#                 stack.append(root)\n",
    "#                 root = root.left\n",
    "#             # there is no left child for root\n",
    "#             # scan itself\n",
    "#             root = stack.pop()\n",
    "#             traverse.append(root.val)\n",
    "#             # scan right\n",
    "#             root = root.right\n",
    "#         return traverse"
   ]
  },
  {
   "cell_type": "code",
   "execution_count": null,
   "metadata": {
    "ExecuteTime": {
     "end_time": "2020-02-24T16:12:07.628885Z",
     "start_time": "2020-02-24T16:12:07.624885Z"
    }
   },
   "outputs": [],
   "source": [
    "print(TreeOrders().pre_order(string_to_tree_node(\"[1,2,5,3,4]\")))\n",
    "print(TreeOrders().in_order(string_to_tree_node(\"[4,2,5,1,3]\")))\n",
    "print(TreeOrders().post_order(string_to_tree_node(\"[5,3,4,1,2]\")))"
   ]
  },
  {
   "cell_type": "markdown",
   "metadata": {},
   "source": [
    "## Binary Search Trees"
   ]
  },
  {
   "cell_type": "markdown",
   "metadata": {},
   "source": [
    "* There must be no same val in the BST tree."
   ]
  },
  {
   "cell_type": "markdown",
   "metadata": {},
   "source": [
    "## 98 [Validate Binary Search Tree](https://leetcode.com/problems/validate-binary-search-tree/) - M - ByteDance"
   ]
  },
  {
   "cell_type": "markdown",
   "metadata": {},
   "source": [
    "### Inorder"
   ]
  },
  {
   "cell_type": "markdown",
   "metadata": {},
   "source": [
    "* The inorder of a BST must be ordered **without same val**.\n",
    "* Runtime: 40 ms, faster than 84.99% of Python3 online submissions for Validate Binary Search Tree.\n",
    "* Memory Usage: 14.9 MB, less than 100.00% of Python3 online submissions for Validate Binary Search Tree."
   ]
  },
  {
   "cell_type": "code",
   "execution_count": null,
   "metadata": {
    "ExecuteTime": {
     "end_time": "2020-02-24T15:48:16.280989Z",
     "start_time": "2020-02-24T15:48:16.274982Z"
    }
   },
   "outputs": [],
   "source": [
    "class Solution:\n",
    "    def isValidBST(self, root: TreeNode) -> bool:\n",
    "        '''Given a binary tree, determine if it is a valid binary search tree by Inorder.'''\n",
    "        # Inorder: left -> root -> right\n",
    "        stack, before = [], float('-inf')\n",
    "        while stack or root:\n",
    "            while root:\n",
    "                # scan left\n",
    "                stack.append(root)\n",
    "                root = root.left\n",
    "            # there is no left child for root\n",
    "            # scan itself\n",
    "            root = stack.pop()\n",
    "            if root.val <= before:\n",
    "                return False\n",
    "            else:\n",
    "                # scan right\n",
    "                before = root.val\n",
    "                root = root.right\n",
    "        return True"
   ]
  },
  {
   "cell_type": "code",
   "execution_count": null,
   "metadata": {
    "ExecuteTime": {
     "end_time": "2020-02-24T15:48:16.288987Z",
     "start_time": "2020-02-24T15:48:16.282996Z"
    }
   },
   "outputs": [],
   "source": [
    "# test\n",
    "eq(Solution().isValidBST(string_to_tree_node(\"[2,1,3]\")), True)\n",
    "eq(Solution().isValidBST(string_to_tree_node(\"[5,1,4,null,null,3,6]\")), False)\n",
    "eq(Solution().isValidBST(string_to_tree_node(\"[1,1]\")), False)"
   ]
  }
 ],
 "metadata": {
  "kernelspec": {
   "display_name": "Python 3.8.1 64-bit",
   "language": "python",
   "name": "python38164bit95e09ab6981f4880a839b2c4c80e8cb6"
  },
  "language_info": {
   "codemirror_mode": {
    "name": "ipython",
    "version": 3
   },
   "file_extension": ".py",
   "mimetype": "text/x-python",
   "name": "python",
   "nbconvert_exporter": "python",
   "pygments_lexer": "ipython3",
   "version": "3.8.1"
  },
  "toc": {
   "base_numbering": 1,
   "nav_menu": {},
   "number_sections": false,
   "sideBar": true,
   "skip_h1_title": true,
   "title_cell": "Table of Contents",
   "title_sidebar": "Contents",
   "toc_cell": false,
   "toc_position": {},
   "toc_section_display": true,
   "toc_window_display": true
  }
 },
 "nbformat": 4,
 "nbformat_minor": 4
}
