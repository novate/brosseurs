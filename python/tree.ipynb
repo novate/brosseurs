{
 "cells": [
  {
   "cell_type": "markdown",
   "metadata": {},
   "source": [
    "# Tree "
   ]
  },
  {
   "cell_type": "markdown",
   "metadata": {},
   "source": [
    "## Pre run "
   ]
  },
  {
   "cell_type": "code",
   "execution_count": null,
   "metadata": {
    "ExecuteTime": {
     "end_time": "2020-02-23T05:39:47.049393Z",
     "start_time": "2020-02-23T05:39:47.040396Z"
    }
   },
   "outputs": [],
   "source": [
    "from typing import List\n",
    "from helpers.misc import *\n",
    "from helpers.tree import *"
   ]
  },
  {
   "cell_type": "markdown",
   "metadata": {},
   "source": [
    "## Binary Search Trees"
   ]
  },
  {
   "cell_type": "markdown",
   "metadata": {},
   "source": [
    "* There must be no same val in the BST tree."
   ]
  },
  {
   "cell_type": "markdown",
   "metadata": {},
   "source": [
    "## 98 [Validate Binary Search Tree](https://leetcode.com/problems/validate-binary-search-tree/) - M - ByteDance"
   ]
  },
  {
   "cell_type": "markdown",
   "metadata": {},
   "source": [
    "### LDR "
   ]
  },
  {
   "cell_type": "markdown",
   "metadata": {},
   "source": [
    "* Runtime: 52 ms, faster than 18.49% of Python3 online submissions for Validate Binary Search Tree.\n",
    "* Memory Usage: 16.2 MB, less than 21.84% of Python3 online submissions for Validate Binary Search Tree."
   ]
  },
  {
   "cell_type": "code",
   "execution_count": null,
   "metadata": {
    "ExecuteTime": {
     "end_time": "2020-02-23T05:41:04.662860Z",
     "start_time": "2020-02-23T05:41:04.657872Z"
    }
   },
   "outputs": [],
   "source": [
    "class Solution:\n",
    "    def isValidBST(self, root: TreeNode) -> bool:\n",
    "        '''Given a binary tree, determine if it is a valid binary search tree by LDR.'''\n",
    "        def LDR(root: TreeNode) -> List[int]:\n",
    "            '''Do LDR for a tree.'''\n",
    "            if not root:\n",
    "                return []\n",
    "            else:\n",
    "                return LDR(root.left) + [root.val] + LDR(root.right)\n",
    "        \n",
    "        ldr = LDR(root)\n",
    "        # CAUTION: There must be no same val in the BST tree.\n",
    "        return ldr == sorted(ldr) and len(ldr) == len(set(ldr))"
   ]
  },
  {
   "cell_type": "code",
   "execution_count": null,
   "metadata": {
    "ExecuteTime": {
     "end_time": "2020-02-23T05:42:17.438752Z",
     "start_time": "2020-02-23T05:42:17.434727Z"
    }
   },
   "outputs": [],
   "source": [
    "# test\n",
    "eq(Solution().isValidBST(string_to_tree_node(\"[2,1,3]\")), True)\n",
    "eq(Solution().isValidBST(string_to_tree_node(\"[5,1,4,null,null,3,6]\")), False)\n",
    "eq(Solution().isValidBST(string_to_tree_node(\"[1,1]\")), False)"
   ]
  }
 ],
 "metadata": {
  "kernelspec": {
   "display_name": "Python 3.8.1 64-bit",
   "language": "python",
   "name": "python38164bit95e09ab6981f4880a839b2c4c80e8cb6"
  },
  "language_info": {
   "codemirror_mode": {
    "name": "ipython",
    "version": 3
   },
   "file_extension": ".py",
   "mimetype": "text/x-python",
   "name": "python",
   "nbconvert_exporter": "python",
   "pygments_lexer": "ipython3",
   "version": "3.8.1"
  },
  "toc": {
   "base_numbering": 1,
   "nav_menu": {},
   "number_sections": false,
   "sideBar": true,
   "skip_h1_title": true,
   "title_cell": "Table of Contents",
   "title_sidebar": "Contents",
   "toc_cell": false,
   "toc_position": {},
   "toc_section_display": true,
   "toc_window_display": true
  }
 },
 "nbformat": 4,
 "nbformat_minor": 4
}
