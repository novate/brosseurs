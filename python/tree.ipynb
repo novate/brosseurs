{
 "cells": [
  {
   "cell_type": "markdown",
   "metadata": {},
   "source": [
    "# Tree "
   ]
  },
  {
   "cell_type": "markdown",
   "metadata": {},
   "source": [
    "## Pre run "
   ]
  },
  {
   "cell_type": "code",
   "execution_count": null,
   "metadata": {
    "ExecuteTime": {
     "end_time": "2020-02-27T14:00:03.620061Z",
     "start_time": "2020-02-27T14:00:03.612041Z"
    }
   },
   "outputs": [],
   "source": [
    "from typing import List\n",
    "from helpers.misc import *\n",
    "from helpers.tree import *"
   ]
  },
  {
   "cell_type": "markdown",
   "metadata": {},
   "source": [
    "## Basics "
   ]
  },
  {
   "cell_type": "markdown",
   "metadata": {},
   "source": [
    "* **BFS**: Breadth First Search.\n",
    "* **DFS**: Depth First Search.\n",
    "    * **Preorder**: root -> left -> right\n",
    "    * **Inorder**: left -> root -> right\n",
    "        * The core of BST is inorder, keep practicing!\n",
    "    * **Postorder**: left -> right -> root"
   ]
  },
  {
   "cell_type": "code",
   "execution_count": null,
   "metadata": {
    "ExecuteTime": {
     "end_time": "2020-02-27T13:59:41.996267Z",
     "start_time": "2020-02-27T13:59:41.989244Z"
    }
   },
   "outputs": [],
   "source": [
    "class TreeOrders:\n",
    "    '''Do tree order using iteration.'''\n",
    "    \n",
    "#     def pre_order(self, root: TreeNode) -> List[int]:\n",
    "#         '''Do preorder for a tree.'''\n",
    "#         # sequence: self -> left -> right\n",
    "#         stack, traverse = [root], []\n",
    "#         while stack:\n",
    "#             # scan self\n",
    "#             root = stack.pop()\n",
    "#             traverse.append(root.val)\n",
    "#             if root.right:\n",
    "#                 stack.append(root.right)\n",
    "#             if root.left:\n",
    "#                 stack.append(root.left)\n",
    "#         return traverse\n",
    "    \n",
    "    def in_order(self, root: TreeNode) -> List[int]:\n",
    "        '''Do inorder for a tree.'''\n",
    "        # sequence: left -> self -> right\n",
    "        stack, traverse = [], []\n",
    "        while stack or root:\n",
    "            while root:\n",
    "                # scan left\n",
    "                stack.append(root)\n",
    "                root = root.left\n",
    "            # there is no left child for root\n",
    "            # scan itself\n",
    "            root = stack.pop()\n",
    "            traverse.append(root.val)\n",
    "            # scan right\n",
    "            root = root.right\n",
    "        return traverse\n",
    "\n",
    "#     def post_order(self, root: TreeNode) -> List[int]:\n",
    "#         '''Do postorder for a tree.'''\n",
    "#         # sequence: left -> right -> self\n",
    "#         stack, traverse = [], []\n",
    "#         while stack or root:\n",
    "#             while root:\n",
    "#                 # scan left\n",
    "#                 stack.append(root)\n",
    "#                 root = root.left\n",
    "#             # there is no left child for root\n",
    "#             # scan itself\n",
    "#             root = stack.pop()\n",
    "#             traverse.append(root.val)\n",
    "#             # scan right\n",
    "#             root = root.right\n",
    "#         return traverse"
   ]
  },
  {
   "cell_type": "code",
   "execution_count": null,
   "metadata": {
    "ExecuteTime": {
     "end_time": "2020-02-27T13:59:42.944007Z",
     "start_time": "2020-02-27T13:59:42.781010Z"
    }
   },
   "outputs": [],
   "source": [
    "print(TreeOrders().pre_order(string_to_tree_node(\"[1,2,5,3,4]\")))\n",
    "print(TreeOrders().in_order(string_to_tree_node(\"[4,2,5,1,3]\")))\n",
    "print(TreeOrders().post_order(string_to_tree_node(\"[5,3,4,1,2]\")))"
   ]
  },
  {
   "cell_type": "markdown",
   "metadata": {},
   "source": [
    "## Binary Search Trees"
   ]
  },
  {
   "cell_type": "markdown",
   "metadata": {},
   "source": [
    "* There must be no same val in the BST tree."
   ]
  },
  {
   "cell_type": "markdown",
   "metadata": {},
   "source": [
    "## 98 [Validate Binary Search Tree](https://leetcode.com/problems/validate-binary-search-tree/) - M - ByteDance"
   ]
  },
  {
   "cell_type": "markdown",
   "metadata": {},
   "source": [
    "### Inorder"
   ]
  },
  {
   "cell_type": "markdown",
   "metadata": {},
   "source": [
    "* The inorder of a BST must be ordered **without same val**.\n",
    "* Runtime: 40 ms, faster than 84.99% of Python3 online submissions for Validate Binary Search Tree.\n",
    "* Memory Usage: 14.9 MB, less than 100.00% of Python3 online submissions for Validate Binary Search Tree."
   ]
  },
  {
   "cell_type": "code",
   "execution_count": null,
   "metadata": {
    "ExecuteTime": {
     "end_time": "2020-02-27T14:00:06.003204Z",
     "start_time": "2020-02-27T14:00:05.997179Z"
    }
   },
   "outputs": [],
   "source": [
    "class Solution:\n",
    "    def isValidBST(self, root: TreeNode) -> bool:\n",
    "        '''Given a binary tree, determine if it is a valid binary search tree by Inorder.'''\n",
    "        # Inorder: left -> root -> right\n",
    "        stack, before = [], float('-inf')\n",
    "        while stack or root:\n",
    "            while root:\n",
    "                # scan left\n",
    "                stack.append(root)\n",
    "                root = root.left\n",
    "            # there is no left child for root\n",
    "            # scan itself\n",
    "            root = stack.pop()\n",
    "            if root.val <= before:\n",
    "                return False\n",
    "            else:\n",
    "                # scan right\n",
    "                before = root.val\n",
    "                root = root.right\n",
    "        return True"
   ]
  },
  {
   "cell_type": "code",
   "execution_count": null,
   "metadata": {
    "ExecuteTime": {
     "end_time": "2020-02-27T14:00:06.744539Z",
     "start_time": "2020-02-27T14:00:06.740543Z"
    }
   },
   "outputs": [],
   "source": [
    "# test\n",
    "eq(Solution().isValidBST(string_to_tree_node(\"[2,1,3]\")), True)\n",
    "eq(Solution().isValidBST(string_to_tree_node(\"[5,1,4,null,null,3,6]\")), False)\n",
    "eq(Solution().isValidBST(string_to_tree_node(\"[1,1]\")), False)"
   ]
  },
  {
   "cell_type": "markdown",
   "metadata": {},
   "source": [
    "## 530 [Minimum Absolute Difference in BST](https://leetcode.com/problems/minimum-absolute-difference-in-bst/) -  E"
   ]
  },
  {
   "cell_type": "markdown",
   "metadata": {},
   "source": [
    "### Inorder "
   ]
  },
  {
   "cell_type": "markdown",
   "metadata": {},
   "source": [
    "* Runtime: 48 ms, faster than 96.88% of Python3 online submissions for Minimum Absolute Difference in BST.\n",
    "* Memory Usage: 14.7 MB, less than 100.00% of Python3 online submissions for Minimum Absolute Difference in BST."
   ]
  },
  {
   "cell_type": "code",
   "execution_count": null,
   "metadata": {
    "ExecuteTime": {
     "end_time": "2020-02-27T14:00:08.811190Z",
     "start_time": "2020-02-27T14:00:08.806188Z"
    }
   },
   "outputs": [],
   "source": [
    "class Solution:\n",
    "    def getMinimumDifference(self, root: TreeNode) -> int:\n",
    "        '''Get the minimun difference by traversing the BST Inorder.'''\n",
    "        stack = []\n",
    "        now, before = -1, -1\n",
    "        result = float('inf')\n",
    "        while stack or root:\n",
    "            while root:\n",
    "                stack.append(root)\n",
    "                root = root.left\n",
    "            root = stack.pop()\n",
    "            now = root.val\n",
    "            result = min(now-before, result) if before >= 0 else float('inf')\n",
    "            before = now\n",
    "            root = root.right\n",
    "        return result"
   ]
  },
  {
   "cell_type": "code",
   "execution_count": null,
   "metadata": {
    "ExecuteTime": {
     "end_time": "2020-02-27T14:00:11.464488Z",
     "start_time": "2020-02-27T14:00:11.460490Z"
    }
   },
   "outputs": [],
   "source": [
    "# test\n",
    "eq(Solution().getMinimumDifference(string_to_tree_node(\"[1,null,3,2]\")), 1)"
   ]
  },
  {
   "cell_type": "markdown",
   "metadata": {},
   "source": [
    "## 700 [Search in a Binary Search Tree](https://leetcode.com/problems/search-in-a-binary-search-tree/) - E"
   ]
  },
  {
   "cell_type": "markdown",
   "metadata": {},
   "source": [
    "### Inorder "
   ]
  },
  {
   "cell_type": "markdown",
   "metadata": {},
   "source": [
    "* Runtime: 76 ms, faster than 61.93% of Python3 online submissions for Search in a Binary Search Tree.\n",
    "* Memory Usage: 14.5 MB, less than 100.00% of Python3 online submissions for Search in a Binary Search Tree."
   ]
  },
  {
   "cell_type": "code",
   "execution_count": null,
   "metadata": {
    "ExecuteTime": {
     "end_time": "2020-02-27T14:00:13.834599Z",
     "start_time": "2020-02-27T14:00:13.828620Z"
    }
   },
   "outputs": [],
   "source": [
    "class Solution:\n",
    "    def searchBST(self, root: TreeNode, val: int) -> TreeNode:\n",
    "        '''Search a node in BST by inorder traverse.'''\n",
    "        stack = []\n",
    "        while stack or root:\n",
    "            while root:\n",
    "                stack.append(root)\n",
    "                root = root.left\n",
    "            root = stack.pop()\n",
    "            if root.val == val:\n",
    "                return root\n",
    "            else:\n",
    "                root = root.right\n",
    "        # not found\n",
    "        return None"
   ]
  },
  {
   "cell_type": "code",
   "execution_count": null,
   "metadata": {
    "ExecuteTime": {
     "end_time": "2020-02-27T14:00:14.560235Z",
     "start_time": "2020-02-27T14:00:14.556216Z"
    }
   },
   "outputs": [],
   "source": [
    "# test\n",
    "eq(str(Solution().searchBST(string_to_tree_node(\"[4,2,7,1,3]\"), 2)), \"[2,1,3]\")"
   ]
  },
  {
   "cell_type": "markdown",
   "metadata": {},
   "source": [
    "## 701 [Insert into a Binary Search Tree](https://leetcode.com/problems/insert-into-a-binary-search-tree/) - M "
   ]
  },
  {
   "cell_type": "markdown",
   "metadata": {},
   "source": [
    "### DFS"
   ]
  },
  {
   "cell_type": "markdown",
   "metadata": {},
   "source": [
    "* Runtime: 140 ms, faster than 65.05% of Python3 online submissions for Insert into a Binary Search Tree.\n",
    "* Memory Usage: 15 MB, less than 100.00% of Python3 online submissions for Insert into a Binary Search Tree."
   ]
  },
  {
   "cell_type": "code",
   "execution_count": null,
   "metadata": {
    "ExecuteTime": {
     "end_time": "2020-02-27T14:00:17.101333Z",
     "start_time": "2020-02-27T14:00:17.094304Z"
    }
   },
   "outputs": [],
   "source": [
    "class Solution:\n",
    "    def insertIntoBST(self, root: TreeNode, val: int) -> TreeNode:\n",
    "        '''Insert into BST by DFS.'''\n",
    "        head = root\n",
    "        ancestor = root\n",
    "        while root:\n",
    "            ancestor = root\n",
    "            if val < root.val:\n",
    "                root = root.left\n",
    "            else:\n",
    "                root = root.right\n",
    "        if val < ancestor.val:\n",
    "            ancestor.left = TreeNode(val)\n",
    "        else:\n",
    "            ancestor.right = TreeNode(val)\n",
    "        return head"
   ]
  },
  {
   "cell_type": "code",
   "execution_count": null,
   "metadata": {
    "ExecuteTime": {
     "end_time": "2020-02-27T14:00:39.217362Z",
     "start_time": "2020-02-27T14:00:39.213364Z"
    }
   },
   "outputs": [],
   "source": [
    "# test\n",
    "eq(str(Solution().insertIntoBST(string_to_tree_node(\"[4,2,7,1,3]\"), 5)), \"[4,2,7,1,3,5]\")"
   ]
  },
  {
   "cell_type": "markdown",
   "metadata": {},
   "source": [
    "### Recursion "
   ]
  },
  {
   "cell_type": "markdown",
   "metadata": {},
   "source": [
    "* Runtime: 136 ms, faster than 82.29% of Python3 online submissions for Insert into a Binary Search Tree.\n",
    "* Memory Usage: 14.8 MB, less than 100.00% of Python3 online submissions for Insert into a Binary Search Tree."
   ]
  },
  {
   "cell_type": "code",
   "execution_count": null,
   "metadata": {
    "ExecuteTime": {
     "end_time": "2020-02-27T14:06:14.440568Z",
     "start_time": "2020-02-27T14:06:14.435500Z"
    }
   },
   "outputs": [],
   "source": [
    "class Solution:\n",
    "    def insertIntoBST(self, root: TreeNode, val: int) -> TreeNode:\n",
    "        '''Insert into BST by recursion.\n",
    "        \n",
    "        TC: O(log n to n)\n",
    "        SC: O(log n to n)\n",
    "        '''\n",
    "        if not root:\n",
    "            return TreeNode(val)\n",
    "        if val > root.val:\n",
    "            root.right = self.insertIntoBST(root.right, val)\n",
    "        else:\n",
    "            root.left = self.insertIntoBST(root.left, val)\n",
    "        return root"
   ]
  },
  {
   "cell_type": "code",
   "execution_count": null,
   "metadata": {
    "ExecuteTime": {
     "end_time": "2020-02-27T14:06:16.699685Z",
     "start_time": "2020-02-27T14:06:16.695668Z"
    }
   },
   "outputs": [],
   "source": [
    "# test\n",
    "eq(str(Solution().insertIntoBST(string_to_tree_node(\"[4,2,7,1,3]\"), 5)), \"[4,2,7,1,3,5]\")"
   ]
  }
 ],
 "metadata": {
  "kernelspec": {
   "display_name": "Python 3.8.1 64-bit",
   "language": "python",
   "name": "python38164bit95e09ab6981f4880a839b2c4c80e8cb6"
  },
  "language_info": {
   "codemirror_mode": {
    "name": "ipython",
    "version": 3
   },
   "file_extension": ".py",
   "mimetype": "text/x-python",
   "name": "python",
   "nbconvert_exporter": "python",
   "pygments_lexer": "ipython3",
   "version": "3.8.1"
  },
  "toc": {
   "base_numbering": 1,
   "nav_menu": {},
   "number_sections": false,
   "sideBar": true,
   "skip_h1_title": true,
   "title_cell": "Table of Contents",
   "title_sidebar": "Contents",
   "toc_cell": false,
   "toc_position": {},
   "toc_section_display": true,
   "toc_window_display": true
  }
 },
 "nbformat": 4,
 "nbformat_minor": 4
}
