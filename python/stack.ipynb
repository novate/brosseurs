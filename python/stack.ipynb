{
 "cells": [
  {
   "cell_type": "markdown",
   "metadata": {},
   "source": [
    "# Stack"
   ]
  },
  {
   "cell_type": "markdown",
   "metadata": {},
   "source": [
    "## Pre-run "
   ]
  },
  {
   "cell_type": "code",
   "execution_count": null,
   "metadata": {},
   "outputs": [],
   "source": [
    "from typing import List\n",
    "from helpers.misc import *"
   ]
  },
  {
   "cell_type": "markdown",
   "metadata": {},
   "source": [
    "## 20 [Valid Parentheses](https://leetcode.com/problems/valid-parentheses/) - E "
   ]
  },
  {
   "cell_type": "markdown",
   "metadata": {},
   "source": [
    "* Runtime: 24 ms, faster than 90.31% of Python3 online submissions for Valid Parentheses.\n",
    "* Memory Usage: 12.8 MB, less than 100.00% of Python3 online submissions for Valid Parentheses."
   ]
  },
  {
   "cell_type": "code",
   "execution_count": null,
   "metadata": {},
   "outputs": [],
   "source": [
    "class Solution:\n",
    "    def isValid(self, s: str) -> bool:\n",
    "        '''Check whether a given string of parentheses is valid by stack.'''\n",
    "        d = {')':'(', '}':'{', ']':'['}\n",
    "        stack = ['#']\n",
    "        for p in s:\n",
    "            # p is a back parenthese\n",
    "            if p in d:\n",
    "                # parentheses not paired\n",
    "                if stack[-1] != d[p]:\n",
    "                    return False\n",
    "                # parentheses paired\n",
    "                else:\n",
    "                    stack.pop()\n",
    "            # p is a front parenthese\n",
    "            else:\n",
    "                stack.append(p)\n",
    "        return len(stack) == 1"
   ]
  },
  {
   "cell_type": "code",
   "execution_count": null,
   "metadata": {},
   "outputs": [],
   "source": [
    "# test\n",
    "eq(Solution().isValid(''), True)\n",
    "eq(Solution().isValid('()'), True)\n",
    "eq(Solution().isValid('()[]{}'), True)\n",
    "eq(Solution().isValid('(]'), False)\n",
    "eq(Solution().isValid('([)]'), False)\n",
    "eq(Solution().isValid('([])'), True)"
   ]
  },
  {
   "cell_type": "markdown",
   "metadata": {},
   "source": [
    "## 225 [Implement Stack using Queues](https://leetcode.com/problems/implement-stack-using-queues/) - E"
   ]
  },
  {
   "cell_type": "markdown",
   "metadata": {},
   "source": [
    "* [Solution](https://leetcode.com/articles/implement-stack-using-queues/)"
   ]
  },
  {
   "cell_type": "markdown",
   "metadata": {},
   "source": [
    "### Two Queues Better Push"
   ]
  },
  {
   "cell_type": "markdown",
   "metadata": {},
   "source": [
    "* Runtime: 28 ms, faster than 56.46% of Python3 online submissions for Implement Stack using Queues.\n",
    "* Memory Usage: 12.8 MB, less than 100.00% of Python3 online submissions for Implement Stack using Queues."
   ]
  },
  {
   "cell_type": "code",
   "execution_count": null,
   "metadata": {},
   "outputs": [],
   "source": [
    "from collections import deque\n",
    "\n",
    "class MyStack:\n",
    "\n",
    "    def __init__(self):\n",
    "        \"\"\"\n",
    "        Initialize your data structure here.\n",
    "        \"\"\"\n",
    "        self.q1 = deque()\n",
    "        self.q2 = deque()\n",
    "\n",
    "    def push(self, x: int) -> None:\n",
    "        \"\"\"\n",
    "        Push element x onto stack.\n",
    "        \"\"\"\n",
    "        self.q1.append(x)\n",
    "        self.topper = x\n",
    "\n",
    "    def pop(self) -> int:\n",
    "        \"\"\"\n",
    "        Removes the element on top of the stack and returns that element.\n",
    "        \"\"\"\n",
    "        for i in range(len(self.q1)-1):\n",
    "            self.topper = self.q1.popleft()\n",
    "            self.q2.append(self.topper)\n",
    "        self.q1, self.q2 = self.q2, self.q1\n",
    "        return self.q2.popleft()\n",
    "\n",
    "    def top(self) -> int:\n",
    "        \"\"\"\n",
    "        Get the top element.\n",
    "        \"\"\"\n",
    "        return self.topper\n",
    "\n",
    "    def empty(self) -> bool:\n",
    "        \"\"\"\n",
    "        Returns whether the stack is empty.\n",
    "        \"\"\"\n",
    "        return not bool(self.q1)\n",
    "\n",
    "\n",
    "# Your MyStack object will be instantiated and called as such:\n",
    "# obj = MyStack()\n",
    "# obj.push(x)\n",
    "# param_2 = obj.pop()\n",
    "# param_3 = obj.top()\n",
    "# param_4 = obj.empty()"
   ]
  },
  {
   "cell_type": "markdown",
   "metadata": {},
   "source": [
    "### Two Queues Better Pop "
   ]
  },
  {
   "cell_type": "markdown",
   "metadata": {},
   "source": [
    "* Make the main queue upside down.\n",
    "* Runtime: 24 ms, faster than 83.79% of Python3 online submissions for Implement Stack using Queues.\n",
    "* Memory Usage: 12.7 MB, less than 100.00% of Python3 online submissions for Implement Stack using Queues."
   ]
  },
  {
   "cell_type": "code",
   "execution_count": null,
   "metadata": {},
   "outputs": [],
   "source": [
    "from collections import deque\n",
    "\n",
    "class MyStack:\n",
    "\n",
    "    def __init__(self):\n",
    "        \"\"\"\n",
    "        Initialize your data structure here.\n",
    "        \"\"\"\n",
    "        self.q1 = deque()\n",
    "        self.q2 = deque()\n",
    "\n",
    "    def push(self, x: int) -> None:\n",
    "        \"\"\"\n",
    "        Push element x onto stack.\n",
    "        \"\"\"\n",
    "        self.q2.append(x)\n",
    "        for i in range(len(self.q1)):\n",
    "            self.q2.append(self.q1.popleft())\n",
    "        self.q1, self.q2 = self.q2, self.q1\n",
    "        \n",
    "    def pop(self) -> int:\n",
    "        \"\"\"\n",
    "        Removes the element on top of the stack and returns that element.\n",
    "        \"\"\"\n",
    "        return self.q1.popleft() \n",
    "\n",
    "    def top(self) -> int:\n",
    "        \"\"\"\n",
    "        Get the top element.\n",
    "        \"\"\"\n",
    "        return self.q1[0] \n",
    "\n",
    "    def empty(self) -> bool:\n",
    "        \"\"\"\n",
    "        Returns whether the stack is empty.\n",
    "        \"\"\"\n",
    "        return not bool(self.q1)\n",
    "\n",
    "\n",
    "# Your MyStack object will be instantiated and called as such:\n",
    "# obj = MyStack()\n",
    "# obj.push(x)\n",
    "# param_2 = obj.pop()\n",
    "# param_3 = obj.top()\n",
    "# param_4 = obj.empty()"
   ]
  },
  {
   "cell_type": "markdown",
   "metadata": {},
   "source": [
    "### One Queue Better Pop"
   ]
  },
  {
   "cell_type": "markdown",
   "metadata": {},
   "source": [
    "* Runtime: 28 ms, faster than 56.46% of Python3 online submissions for Implement Stack using Queues.\n",
    "* Memory Usage: 12.8 MB, less than 100.00% of Python3 online submissions for Implement Stack using Queues."
   ]
  },
  {
   "cell_type": "code",
   "execution_count": null,
   "metadata": {},
   "outputs": [],
   "source": [
    "from collections import deque\n",
    "\n",
    "class MyStack:\n",
    "\n",
    "    def __init__(self):\n",
    "        \"\"\"\n",
    "        Initialize your data structure here.\n",
    "        \"\"\"\n",
    "        self.q = deque()\n",
    "\n",
    "    def push(self, x: int) -> None:\n",
    "        \"\"\"\n",
    "        Push element x onto stack.\n",
    "        \"\"\"\n",
    "        self.q.append(x)\n",
    "        for _ in range(len(self.q)-1):\n",
    "            self.q.append(self.q.popleft())\n",
    "        \n",
    "    def pop(self) -> int:\n",
    "        \"\"\"\n",
    "        Removes the element on top of the stack and returns that element.\n",
    "        \"\"\"\n",
    "        return self.q.popleft() \n",
    "\n",
    "    def top(self) -> int:\n",
    "        \"\"\"\n",
    "        Get the top element.\n",
    "        \"\"\"\n",
    "        return self.q[0] \n",
    "\n",
    "    def empty(self) -> bool:\n",
    "        \"\"\"\n",
    "        Returns whether the stack is empty.\n",
    "        \"\"\"\n",
    "        return not bool(self.q)\n",
    "\n",
    "\n",
    "# Your MyStack object will be instantiated and called as such:\n",
    "# obj = MyStack()\n",
    "# obj.push(x)\n",
    "# param_2 = obj.pop()\n",
    "# param_3 = obj.top()\n",
    "# param_4 = obj.empty()"
   ]
  },
  {
   "cell_type": "markdown",
   "metadata": {},
   "source": [
    "## 735 [Asteroid Collision](https://leetcode.com/problems/asteroid-collision/) - M "
   ]
  },
  {
   "cell_type": "markdown",
   "metadata": {},
   "source": [
    "### Bad Stack "
   ]
  },
  {
   "cell_type": "markdown",
   "metadata": {},
   "source": [
    "* Runtime: 108 ms, faster than 45.39% of Python3 online submissions for Implement Stack using Queues.\n",
    "* Memory Usage: 13.9 MB, less than 54.31% of Python3 online submissions for Implement Stack using Queues."
   ]
  },
  {
   "cell_type": "code",
   "execution_count": null,
   "metadata": {},
   "outputs": [],
   "source": [
    "class Solution:\n",
    "    def asteroidCollision(self, asteroids: List[int]) -> List[int]:\n",
    "        '''Find the result of the asteroid collision with a stack.'''\n",
    "        ans = []\n",
    "        \n",
    "        def add_new_asteroid(asteroid: int):\n",
    "            '''Add a new asteroid into a list of asteroids.'''\n",
    "            ans.append(asteroid)\n",
    "            while len(ans) > 1 and ans[-1] < 0:\n",
    "                # same sign\n",
    "                if ans[-1] * ans[-2] > 0:\n",
    "                    break\n",
    "                # different sign\n",
    "                else:\n",
    "                    if abs(ans[-1]) < abs(ans[-2]):\n",
    "                        ans.pop()\n",
    "                        break\n",
    "                    elif abs(ans[-1]) == abs(ans[-2]):\n",
    "                        ans.pop()\n",
    "                        ans.pop()\n",
    "                        break\n",
    "                    else:\n",
    "                        del(ans[-2])\n",
    "        for a in asteroids:\n",
    "            add_new_asteroid(a)\n",
    "        return ans"
   ]
  },
  {
   "cell_type": "code",
   "execution_count": null,
   "metadata": {},
   "outputs": [],
   "source": [
    "eq(Solution().asteroidCollision([5,10,-5]), [5,10])\n",
    "eq(Solution().asteroidCollision([8,-8]), [])\n",
    "eq(Solution().asteroidCollision([10,2,-5]), [10])\n",
    "eq(Solution().asteroidCollision([-2,-1,1,2]), [-2,-1,1,2])\n",
    "eq(Solution().asteroidCollision([1,2,-3]), [-3])"
   ]
  },
  {
   "cell_type": "markdown",
   "metadata": {},
   "source": [
    "### Better Stack "
   ]
  },
  {
   "cell_type": "markdown",
   "metadata": {},
   "source": [
    "* Runtime: 100 ms, faster than 78.53% of Python3 online submissions for Asteroid Collision.\n",
    "* Memory Usage: 13.9 MB, less than 25.00% of Python3 online submissions for Asteroid Collision."
   ]
  },
  {
   "cell_type": "code",
   "execution_count": null,
   "metadata": {},
   "outputs": [],
   "source": [
    "class Solution:\n",
    "    def asteroidCollision(self, asteroids: List[int]) -> List[int]:\n",
    "        '''Find the result of the asteroid collision with a stack.'''\n",
    "        ans = []\n",
    "        for a in asteroids:\n",
    "            while ans and a < 0 < ans[-1]:\n",
    "                if -a > ans[-1]:\n",
    "                    ans.pop()\n",
    "                    continue\n",
    "                elif -a == ans[-1]:\n",
    "                    ans.pop()\n",
    "                break\n",
    "            else:\n",
    "                ans.append(a)\n",
    "        return ans"
   ]
  },
  {
   "cell_type": "code",
   "execution_count": null,
   "metadata": {},
   "outputs": [],
   "source": [
    "eq(Solution().asteroidCollision([5,10,-5]), [5,10])\n",
    "eq(Solution().asteroidCollision([8,-8]), [])\n",
    "eq(Solution().asteroidCollision([10,2,-5]), [10])\n",
    "eq(Solution().asteroidCollision([-2,-1,1,2]), [-2,-1,1,2])\n",
    "eq(Solution().asteroidCollision([1,2,-3]), [-3])"
   ]
  }
 ],
 "metadata": {
  "file_extension": ".py",
  "kernelspec": {
   "display_name": "Python 3",
   "language": "python",
   "name": "python3"
  },
  "language_info": {
   "codemirror_mode": {
    "name": "ipython",
    "version": 3
   },
   "file_extension": ".py",
   "mimetype": "text/x-python",
   "name": "python",
   "nbconvert_exporter": "python",
   "pygments_lexer": "ipython3",
   "version": "3.6.9"
  },
  "mimetype": "text/x-python",
  "name": "python",
  "npconvert_exporter": "python",
  "pygments_lexer": "ipython3",
  "toc": {
   "base_numbering": 1,
   "nav_menu": {},
   "number_sections": false,
   "sideBar": true,
   "skip_h1_title": false,
   "title_cell": "Table of Contents",
   "title_sidebar": "Contents",
   "toc_cell": false,
   "toc_position": {
    "height": "calc(100% - 180px)",
    "left": "10px",
    "top": "150px",
    "width": "165px"
   },
   "toc_section_display": true,
   "toc_window_display": true
  },
  "version": 3
 },
 "nbformat": 4,
 "nbformat_minor": 2
}
