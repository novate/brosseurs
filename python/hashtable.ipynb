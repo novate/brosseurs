{
 "cells": [
  {
   "cell_type": "markdown",
   "metadata": {},
   "source": [
    "# Hash"
   ]
  },
  {
   "cell_type": "markdown",
   "metadata": {},
   "source": [
    "## Pre-run"
   ]
  },
  {
   "cell_type": "code",
   "execution_count": null,
   "metadata": {
    "ExecuteTime": {
     "end_time": "2020-02-20T13:19:57.234461Z",
     "start_time": "2020-02-20T13:19:57.230464Z"
    }
   },
   "outputs": [],
   "source": [
    "from typing import List"
   ]
  },
  {
   "cell_type": "markdown",
   "metadata": {},
   "source": [
    "## 1 [Two Sum](https://leetcode.com/problems/two-sum/) - E - Google Frequent"
   ]
  },
  {
   "cell_type": "markdown",
   "metadata": {},
   "source": [
    "* [Answer from Huahua](https://www.youtube.com/watch?v=tNtk_rwbaIk)"
   ]
  },
  {
   "cell_type": "markdown",
   "metadata": {},
   "source": [
    "### One Pass HashTable"
   ]
  },
  {
   "cell_type": "markdown",
   "metadata": {},
   "source": [
    "* Runtime: 44 ms, faster than 92.55% of Python3 online submissions for Two Sum.\n",
    "* Memory Usage: 14.1 MB, less than 61.16% of Python3 online submissions for Two Sum."
   ]
  },
  {
   "cell_type": "code",
   "execution_count": null,
   "metadata": {
    "ExecuteTime": {
     "end_time": "2020-02-20T13:20:20.399572Z",
     "start_time": "2020-02-20T13:20:20.392576Z"
    }
   },
   "outputs": [],
   "source": [
    "class Solution:\n",
    "    def twoSum(self, nums: List[int], target: int) -> List[int]:\n",
    "        '''Given an array of integers, return indices of the two numbers such that they add up to a specific target.'''\n",
    "        hash = {}   # One-pass growing hash\n",
    "        for i, num in enumerate(nums):\n",
    "            if target-num not in hash:\n",
    "                hash[num] = i\n",
    "            else:\n",
    "                return [hash[target-num], i]\n",
    "        return [0,0]"
   ]
  },
  {
   "cell_type": "code",
   "execution_count": null,
   "metadata": {
    "ExecuteTime": {
     "end_time": "2020-02-20T13:21:02.184439Z",
     "start_time": "2020-02-20T13:21:02.178440Z"
    }
   },
   "outputs": [],
   "source": [
    "# test\n",
    "print(Solution().twoSum([2, 7, 11, 15], 9))"
   ]
  },
  {
   "cell_type": "markdown",
   "metadata": {},
   "source": [
    "## 15 [3Sum](https://leetcode.com/problems/3sum/) - M"
   ]
  },
  {
   "cell_type": "markdown",
   "metadata": {},
   "source": [
    "* [Answer](https://fizzbuzzed.com/top-interview-questions-1/)"
   ]
  },
  {
   "cell_type": "markdown",
   "metadata": {},
   "source": [
    "### Two Pointer"
   ]
  },
  {
   "cell_type": "markdown",
   "metadata": {},
   "source": [
    "* The Two Pointer trick gives a really nice solution to 3Sum that does not require any extra data structures. It runs really quickly and some interviewers expect this solution.\n",
    "* Runtime: 968 ms, faster than 55.93% of Python3 online submissions for 3Sum.\n",
    "* Memory Usage: 16.2 MB, less than 100.00% of Python3 online submissions for 3Sum."
   ]
  },
  {
   "cell_type": "code",
   "execution_count": null,
   "metadata": {
    "ExecuteTime": {
     "end_time": "2020-02-20T14:42:21.321193Z",
     "start_time": "2020-02-20T14:42:21.313193Z"
    }
   },
   "outputs": [],
   "source": [
    "class Solution:\n",
    "    def threeSum(self, nums: List[int]) -> List[List[int]]:\n",
    "        '''3Sum using two pointer trick.'''\n",
    "        ans = []\n",
    "        nums.sort()\n",
    "        for l in range(len(nums)-2):\n",
    "            # avoid same left numbers\n",
    "            if l > 0 and nums[l] == nums[l-1]:\n",
    "                continue\n",
    "            m, r = l+1, len(nums)-1\n",
    "            while m < r:\n",
    "                s = nums[l] + nums[m] + nums[r]\n",
    "                if s == 0:\n",
    "                    ans.append([nums[l], nums[m], nums[r]])\n",
    "                    # same left number, different answer, middle number must not be the same.\n",
    "                    m += 1\n",
    "                    while m > l+1 and m < r and nums[m] == nums[m-1]:\n",
    "                        m += 1\n",
    "                elif s < 0:\n",
    "                    m += 1\n",
    "                else:\n",
    "                    r -= 1\n",
    "        return ans"
   ]
  },
  {
   "cell_type": "code",
   "execution_count": null,
   "metadata": {
    "ExecuteTime": {
     "end_time": "2020-02-20T14:42:23.918178Z",
     "start_time": "2020-02-20T14:42:23.913181Z"
    }
   },
   "outputs": [],
   "source": [
    "# test\n",
    "print(Solution().threeSum([-1, 0, 1, 2, -1, -4]))"
   ]
  },
  {
   "cell_type": "markdown",
   "metadata": {},
   "source": [
    "## 18 [4Sum](https://leetcode.com/problems/4sum/) - M"
   ]
  },
  {
   "cell_type": "markdown",
   "metadata": {},
   "source": [
    "### 1 + 3Sum"
   ]
  },
  {
   "cell_type": "markdown",
   "metadata": {},
   "source": [
    "* Runtime: 976 ms, faster than 46.43% of Python3 online submissions for 4Sum.\n",
    "* Memory Usage: 12.7 MB, less than 100.00% of Python3 online submissions for 4Sum."
   ]
  },
  {
   "cell_type": "code",
   "execution_count": null,
   "metadata": {
    "ExecuteTime": {
     "end_time": "2020-02-20T14:59:22.841457Z",
     "start_time": "2020-02-20T14:59:22.832457Z"
    }
   },
   "outputs": [],
   "source": [
    "class Solution:\n",
    "    def fourSum(self, nums: List[int], target: int) -> List[List[int]]:\n",
    "        '''4Sum using 3Sum.'''\n",
    "        def threeSum(nums: List[int], target: int) -> List[List[int]]:\n",
    "            '''3Sum using two pointer trick.\n",
    "            \n",
    "            Assert that nums are already sorted.\n",
    "            '''\n",
    "            ans = []\n",
    "            for l in range(len(nums)-2):\n",
    "                # avoid same left numbers\n",
    "                if l > 0 and nums[l] == nums[l-1]:\n",
    "                    continue\n",
    "                m, r = l+1, len(nums)-1\n",
    "                while m < r:\n",
    "                    s = nums[l] + nums[m] + nums[r]\n",
    "                    if s == target:\n",
    "                        ans.append([nums[l], nums[m], nums[r]])\n",
    "                        # same left number, different answer, middle number must not be the same.\n",
    "                        m += 1\n",
    "                        while m < r and nums[m] == nums[m-1]:\n",
    "                            m += 1\n",
    "                    elif s < target:\n",
    "                        m += 1\n",
    "                    else:\n",
    "                        r -= 1\n",
    "            return ans\n",
    "        nums.sort()\n",
    "        ans = []\n",
    "        for l in range(len(nums)-3):\n",
    "            if l > 0 and nums[l] == nums[l-1]:\n",
    "                continue\n",
    "            else:\n",
    "                for a in threeSum(nums[l+1:], target - nums[l]):\n",
    "                    a.append(nums[l])\n",
    "                    ans.append(a)\n",
    "        return ans"
   ]
  },
  {
   "cell_type": "code",
   "execution_count": null,
   "metadata": {
    "ExecuteTime": {
     "end_time": "2020-02-20T14:59:24.476480Z",
     "start_time": "2020-02-20T14:59:24.472462Z"
    }
   },
   "outputs": [],
   "source": [
    "# test\n",
    "print(Solution().fourSum([1, 0, -1, 0, -2, 2], 0))"
   ]
  },
  {
   "cell_type": "markdown",
   "metadata": {},
   "source": [
    "## 410 [Split Array Largest Sum](https://leetcode.com/problems/split-array-largest-sum/) - H - Google Frequent"
   ]
  },
  {
   "cell_type": "markdown",
   "metadata": {},
   "source": [
    "* [Answer from Huahua](https://www.youtube.com/watch?v=_k-Jb4b7b_0)\n",
    "* DP, Binary Search"
   ]
  },
  {
   "cell_type": "markdown",
   "metadata": {},
   "source": [
    "## 560 [Subarray Sum Equals K](https://leetcode.com/problems/subarray-sum-equals-k/) - M"
   ]
  },
  {
   "cell_type": "markdown",
   "metadata": {},
   "source": [
    "* [Answer from Huahua](https://www.youtube.com/watch?v=mKXIH9GnhgU)\n",
    "* Prefix Sum, Hash Table"
   ]
  }
 ],
 "metadata": {
  "file_extension": ".py",
  "kernelspec": {
   "display_name": "Python 3",
   "language": "python",
   "name": "python3"
  },
  "language_info": {
   "codemirror_mode": {
    "name": "ipython",
    "version": 3
   },
   "file_extension": ".py",
   "mimetype": "text/x-python",
   "name": "python",
   "nbconvert_exporter": "python",
   "pygments_lexer": "ipython3",
   "version": "3.8.1"
  },
  "mimetype": "text/x-python",
  "name": "python",
  "npconvert_exporter": "python",
  "pygments_lexer": "ipython3",
  "toc": {
   "base_numbering": 1,
   "nav_menu": {},
   "number_sections": false,
   "sideBar": true,
   "skip_h1_title": true,
   "title_cell": "Table of Contents",
   "title_sidebar": "Contents",
   "toc_cell": false,
   "toc_position": {},
   "toc_section_display": true,
   "toc_window_display": false
  },
  "version": 3
 },
 "nbformat": 4,
 "nbformat_minor": 2
}
