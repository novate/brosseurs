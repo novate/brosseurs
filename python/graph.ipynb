{
 "cells": [
  {
   "cell_type": "markdown",
   "metadata": {},
   "source": [
    "# Graph"
   ]
  },
  {
   "cell_type": "markdown",
   "metadata": {},
   "source": [
    "## Pre-run "
   ]
  },
  {
   "cell_type": "code",
   "execution_count": null,
   "metadata": {},
   "outputs": [],
   "source": [
    "from typing import List\n",
    "from helpers.misc import *"
   ]
  },
  {
   "cell_type": "markdown",
   "metadata": {},
   "source": [
    "## 133 [Clone Graph](https://leetcode.com/problems/clone-graph) - M"
   ]
  },
  {
   "cell_type": "markdown",
   "metadata": {},
   "source": [
    "### DFS - Queue + Hashtable "
   ]
  },
  {
   "cell_type": "markdown",
   "metadata": {},
   "source": [
    "* Runtime: 24 ms, faster than 99.82% of Python3 online submissions for Clone Graph.\n",
    "* Memory Usage: 12.7 MB, less than 100.00% of Python3 online submissions for Clone Graph."
   ]
  },
  {
   "cell_type": "code",
   "execution_count": null,
   "metadata": {},
   "outputs": [],
   "source": [
    "\"\"\"\n",
    "# Definition for a Node.\n",
    "class Node:\n",
    "    def __init__(self, x: int, next: 'Node' = None, random: 'Node' = None):\n",
    "        self.val = int(x)\n",
    "        self.next = next\n",
    "        self.random = random\n",
    "\"\"\"\n",
    "\n",
    "from collections import deque\n",
    "class Solution:\n",
    "    def cloneGraph(self, node: 'Node') -> 'Node':\n",
    "        '''Clone a graph using DFS.'''\n",
    "        # empty graph\n",
    "        if node == None:\n",
    "            return None\n",
    "\n",
    "        # final result\n",
    "        res = Node(node.val, [])\n",
    "        # traversed nodes\n",
    "        resp = {node.val:res}\n",
    "        # traversing nodes queue\n",
    "        q = deque([node])\n",
    "        \n",
    "        def dfs(cur: 'Node'):\n",
    "            '''Using DFS to solve the problem.\n",
    "            \n",
    "            cur: current node.\n",
    "            '''\n",
    "            # if queue is empty, stop traversing\n",
    "            if not q:\n",
    "                return\n",
    "            for nr in q.popleft().neighbors:\n",
    "                if nr.val not in resp:\n",
    "                    q.append(nr)\n",
    "                    resp[nr.val] = Node(nr.val, [])\n",
    "                cur.neighbors.append(resp[nr.val])\n",
    "                dfs(resp[nr.val])\n",
    "        \n",
    "        dfs(res)\n",
    "        return res"
   ]
  },
  {
   "cell_type": "markdown",
   "metadata": {},
   "source": [
    "## 138 [Copy List with Random Pointer](https://leetcode.com/problems/copy-list-with-random-pointer/) - M"
   ]
  },
  {
   "cell_type": "markdown",
   "metadata": {},
   "source": [
    "### Hashtable "
   ]
  },
  {
   "cell_type": "markdown",
   "metadata": {},
   "source": [
    "* Runtime: 36 ms, faster than 51.35% of Python3 online submissions for Copy List with Random Pointer.\n",
    "* Memory Usage: 13.6 MB, less than 100.00% of Python3 online submissions for Copy List with Random Pointer.\n",
    "* **CAUTION**: cannot use val as keys! vals are not an ID of nodes! vals can be the same!\n",
    "* **CAUTION**: always use keys that cannot be the same!"
   ]
  },
  {
   "cell_type": "code",
   "execution_count": null,
   "metadata": {},
   "outputs": [],
   "source": [
    "\"\"\"\n",
    "# Definition for a Node.\n",
    "class Node:\n",
    "    def __init__(self, x: int, next: 'Node' = None, random: 'Node' = None):\n",
    "        self.val = int(x)\n",
    "        self.next = next\n",
    "        self.random = random\n",
    "\"\"\"\n",
    "class Solution:\n",
    "    def copyRandomList(self, head: 'Node') -> 'Node':\n",
    "        '''Deep copy a random list.'''\n",
    "        if not head:\n",
    "            return None\n",
    "        \n",
    "        res = Node(head.val)\n",
    "        # TRICK: pointers are hashable.\n",
    "        # CAUTION: cannot use val as keys! vals are not an ID of nodes! vals \n",
    "        # can be the same!\n",
    "        # CAUTION: always use keys that cannot be the same!\n",
    "        res_done = {head: res}\n",
    "        \n",
    "        def dfs(cr: 'Node', cl: 'Node'):\n",
    "            '''Using DFS to solve problem.\n",
    "            \n",
    "            cr:    current node in result\n",
    "            cl:    current node in list to copy\n",
    "            '''\n",
    "            if not cl.random:\n",
    "                cr.random = None\n",
    "            else:\n",
    "                if cl.random not in res_done:\n",
    "                    res_done[cl.random] = Node(cl.random.val)\n",
    "                cr.random = res_done[cl.random]\n",
    "            \n",
    "            if not cl.next:\n",
    "                cr.next = None\n",
    "                return\n",
    "            else:\n",
    "                if cl.next not in res_done:\n",
    "                    res_done[cl.next] = Node(cl.next.val)\n",
    "                cr.next = res_done[cl.next]\n",
    "                dfs(cr.next, cl.next)\n",
    "            \n",
    "        dfs(res, head)\n",
    "        return res"
   ]
  },
  {
   "cell_type": "markdown",
   "metadata": {},
   "source": [
    "## 417 [Pacific Atlantic Water Flow](https://leetcode.com/problems/pacific-atlantic-water-flow/) - M "
   ]
  },
  {
   "cell_type": "markdown",
   "metadata": {},
   "source": [
    "### DFS - Queue + Hashtable"
   ]
  },
  {
   "cell_type": "markdown",
   "metadata": {},
   "source": [
    "* Runtime: 280 ms, faster than 97.37% of Python3 online submissions for Pacific Atlantic Water Flow.\n",
    "* Memory Usage: 14.1 MB, less than 55.00% of Python3 online submissions for Pacific Atlantic Water Flow.\n",
    "* Caution: the table is a rectangle, not a square!"
   ]
  },
  {
   "cell_type": "code",
   "execution_count": null,
   "metadata": {},
   "outputs": [],
   "source": [
    "from collections import deque\n",
    "class Solution:\n",
    "    def pacificAtlantic(self, matrix: List[List[int]]) -> List[List[int]]:\n",
    "        '''Find the list of grid coordinates where water can flow to both \n",
    "        Pacific and Atlantic Ocean.'''\n",
    "        if not matrix:\n",
    "            return []\n",
    "        # possible waterflow directions\n",
    "        flows = [(0, 1), (0, -1), (1, 0), (-1, 0)]\n",
    "        lx = len(matrix)\n",
    "        ly = len(matrix[0])\n",
    "        # positions that can reach pacific/atlantic ocean waters\n",
    "        pacific = {(x, 0) for x in range(lx)} | {(0, y) for y in range(ly)}\n",
    "        atlantic = {(x, ly-1) for x in range(lx)} | {(lx-1, y) for y in range(ly)}\n",
    "        \n",
    "        # queues\n",
    "        qp = deque(pacific)\n",
    "        qa = deque(atlantic)\n",
    "        \n",
    "        # search positions that can reach pacific ocean\n",
    "        while qp:\n",
    "            px, py = qp.popleft()\n",
    "            for fx, fy in flows:\n",
    "                nx = px+fx\n",
    "                ny = py+fy\n",
    "                if (nx, ny) in pacific or nx < 0 or nx >= lx or ny < 0 or ny >= ly:\n",
    "                    continue\n",
    "                if matrix[nx][ny] >= matrix[px][py]:\n",
    "                    qp.append((nx, ny))\n",
    "                    pacific.add((nx, ny))\n",
    "                    \n",
    "        # search positions that can reach pacific ocean\n",
    "        while qa:\n",
    "            px, py = qa.popleft()\n",
    "            for fx, fy in flows:\n",
    "                nx = px+fx\n",
    "                ny = py+fy\n",
    "                if (nx, ny) in atlantic or nx < 0 or nx >= lx or ny < 0 or ny >= ly:\n",
    "                    continue\n",
    "                if matrix[nx][ny] >= matrix[px][py]:\n",
    "                    qa.append((nx, ny))\n",
    "                    atlantic.add((nx, ny))\n",
    "        \n",
    "        return [list(a) for a in pacific & atlantic]"
   ]
  },
  {
   "cell_type": "markdown",
   "metadata": {},
   "source": [
    "##  924 [Minimize Malware Spread](https://leetcode.com/problems/minimize-malware-spread/) - H"
   ]
  },
  {
   "cell_type": "markdown",
   "metadata": {},
   "source": [
    "* [Solution](https://leetcode.com/articles/minimize-malware-spread/)"
   ]
  },
  {
   "cell_type": "markdown",
   "metadata": {},
   "source": [
    "### Brute Hashmap"
   ]
  },
  {
   "cell_type": "markdown",
   "metadata": {},
   "source": [
    "* Runtime: 4152 ms, faster than 5.76% of Python3 online submissions for Minimize Malware Spread.\n",
    "* Memory Usage: 15.2 MB, less than 75.00% of Python3 online submissions for Minimize Malware Spread."
   ]
  },
  {
   "cell_type": "code",
   "execution_count": null,
   "metadata": {},
   "outputs": [],
   "source": [
    "class Solution:\n",
    "    def minMalwareSpread(self, graph: List[List[int]], initial: List[int]) -> int:\n",
    "        '''Find the node to remove to make the whole graph less infected by\n",
    "        malware.'''\n",
    "        l = len(graph)\n",
    "        h = {i:{i} for i in range(l)}\n",
    "        for x in range(l):\n",
    "            for y in range(x, l):\n",
    "                if graph[x][y]:\n",
    "                    h[x] = h[x] | h[y]\n",
    "                    for n in h[x]:\n",
    "                        h[n] = h[x]\n",
    "        max_conn = 0\n",
    "        ans = initial[0]\n",
    "        for n in initial:\n",
    "            n_conn = len(h[n])\n",
    "            if n_conn > max_conn:\n",
    "                max_conn = n_conn\n",
    "                ans = n\n",
    "            if n_conn == max_conn and n < ans:\n",
    "                ans = n\n",
    "        return ans"
   ]
  },
  {
   "cell_type": "code",
   "execution_count": null,
   "metadata": {},
   "outputs": [],
   "source": [
    "# test\n",
    "eq(Solution().minMalwareSpread([[1,0,0,0,1,0,0,0,0,0],[0,1,1,0,0,0,0,0,0,0],\n",
    "                                [0,1,1,0,0,1,0,0,0,0],[0,0,0,1,0,0,0,0,0,0],\n",
    "                                [1,0,0,0,1,0,0,0,0,0],[0,0,1,0,0,1,0,0,0,0],\n",
    "                                [0,0,0,0,0,0,1,0,0,1],[0,0,0,0,0,0,0,1,0,0],\n",
    "                                [0,0,0,0,0,0,0,0,1,0],[0,0,0,0,0,0,1,0,0,1]],\n",
    "                               [1,3,0]), 1)"
   ]
  }
 ],
 "metadata": {
  "file_extension": ".py",
  "kernelspec": {
   "display_name": "Python 3",
   "language": "python",
   "name": "python3"
  },
  "language_info": {
   "codemirror_mode": {
    "name": "ipython",
    "version": 3
   },
   "file_extension": ".py",
   "mimetype": "text/x-python",
   "name": "python",
   "nbconvert_exporter": "python",
   "pygments_lexer": "ipython3",
   "version": "3.6.9"
  },
  "mimetype": "text/x-python",
  "name": "python",
  "npconvert_exporter": "python",
  "pygments_lexer": "ipython3",
  "toc": {
   "base_numbering": 1,
   "nav_menu": {},
   "number_sections": false,
   "sideBar": true,
   "skip_h1_title": true,
   "title_cell": "Table of Contents",
   "title_sidebar": "Contents",
   "toc_cell": false,
   "toc_position": {},
   "toc_section_display": true,
   "toc_window_display": true
  },
  "version": 3
 },
 "nbformat": 4,
 "nbformat_minor": 2
}
