{
 "cells": [
  {
   "cell_type": "markdown",
   "metadata": {},
   "source": [
    "# Array "
   ]
  },
  {
   "cell_type": "markdown",
   "metadata": {},
   "source": [
    "##  Pre-run"
   ]
  },
  {
   "cell_type": "code",
   "execution_count": null,
   "metadata": {
    "ExecuteTime": {
     "end_time": "2020-02-20T15:54:04.162147Z",
     "start_time": "2020-02-20T15:54:04.158164Z"
    }
   },
   "outputs": [],
   "source": [
    "from typing import List"
   ]
  },
  {
   "cell_type": "markdown",
   "metadata": {},
   "source": [
    "##  438 [Find All Anagrams in a String](https://leetcode.com/problems/find-all-anagrams-in-a-string/) - M"
   ]
  },
  {
   "cell_type": "markdown",
   "metadata": {},
   "source": [
    "* [Answer from Huahua](https://zxi.mytechroad.com/blog/hashtable/leetcode-438-find-all-anagrams-in-a-string/)"
   ]
  },
  {
   "cell_type": "markdown",
   "metadata": {},
   "source": [
    "### Sliding Window"
   ]
  },
  {
   "cell_type": "markdown",
   "metadata": {},
   "source": [
    "* Runtime: 108 ms, faster than 80.33% of Python3 online submissions for Find All Anagrams in a String.\n",
    "* Memory Usage: 13.9 MB, less than 95.65% of Python3 online submissions for Find All Anagrams in a String."
   ]
  },
  {
   "cell_type": "code",
   "execution_count": null,
   "metadata": {
    "ExecuteTime": {
     "end_time": "2020-02-20T15:54:04.173157Z",
     "start_time": "2020-02-20T15:54:04.164147Z"
    }
   },
   "outputs": [],
   "source": [
    "from collections import defaultdict\n",
    "class Solution:\n",
    "    def findAnagrams(self, s: str, p: str) -> List[int]:\n",
    "        '''Find all the start indices of p's anagrams in s.'''\n",
    "        ds = defaultdict(int)     # dict of sliding window\n",
    "        dp = defaultdict(int)     # dict of p\n",
    "        lp = len(p)\n",
    "        ans = []\n",
    "        for i, ch in enumerate(s):\n",
    "            ds[ch] += 1\n",
    "            if i < lp:\n",
    "                dp[p[i]] += 1\n",
    "            else:\n",
    "                if ds[s[i-lp]] == 1:\n",
    "                    del(ds[s[i-lp]])\n",
    "                else:\n",
    "                    ds[s[i-lp]] -= 1\n",
    "            if i >= lp-1 and ds == dp:\n",
    "                ans.append(i-lp+1)\n",
    "        return ans"
   ]
  },
  {
   "cell_type": "code",
   "execution_count": null,
   "metadata": {
    "ExecuteTime": {
     "end_time": "2020-02-20T15:54:04.182148Z",
     "start_time": "2020-02-20T15:54:04.176154Z"
    }
   },
   "outputs": [],
   "source": [
    "# test\n",
    "print(Solution().findAnagrams(\"cbaebabacd\", \"abc\"))\n",
    "print(Solution().findAnagrams(\"abab\", \"ab\"))"
   ]
  },
  {
   "cell_type": "markdown",
   "metadata": {},
   "source": [
    "## 239 [Sliding Window Maximum](https://leetcode.com/problems/sliding-window-maximum/) - H"
   ]
  },
  {
   "cell_type": "markdown",
   "metadata": {},
   "source": [
    "* [Answer](https://blog.csdn.net/summer2day/article/details/89853737)\n",
    "* [Answer from Huahua](https://zxi.mytechroad.com/blog/heap/leetcode-239-sliding-window-maximum/)\n",
    "* Monotonic Queue"
   ]
  },
  {
   "cell_type": "markdown",
   "metadata": {},
   "source": [
    "### Monotonic Queue"
   ]
  },
  {
   "cell_type": "markdown",
   "metadata": {},
   "source": [
    "* Runtime: 192 ms, faster than 38.78% of Python3 online submissions for Sliding Window Maximum.\n",
    "* Memory Usage: 19.4 MB, less than 92.31% of Python3 online submissions for Sliding Window Maximum."
   ]
  },
  {
   "cell_type": "code",
   "execution_count": null,
   "metadata": {
    "ExecuteTime": {
     "end_time": "2020-02-20T15:54:04.198151Z",
     "start_time": "2020-02-20T15:54:04.185155Z"
    }
   },
   "outputs": [],
   "source": [
    "from collections import deque\n",
    "class MonotonicQueue:\n",
    "    def __init__(self):\n",
    "        '''Init the monotonic queue as a deque.'''\n",
    "        self._q = deque()\n",
    "    \n",
    "    def append(self, e: int):\n",
    "        '''Append an element e into the monotonic queue to keep the queue monotonically decreasing.'''\n",
    "        while self._q and e > self._q[-1]:\n",
    "            self._q.pop()\n",
    "        self._q.append(e)\n",
    "    \n",
    "    def pop(self) -> int:\n",
    "        '''Pop an element out from the left.'''\n",
    "        self._q.popleft()\n",
    "        \n",
    "    def max(self) -> int:\n",
    "        '''Get the maximum number of the monotonic queue from the top.'''\n",
    "        return self._q[0]\n",
    "        \n",
    "class Solution:\n",
    "    def maxSlidingWindow(self, nums: List[int], k: int) -> List[int]:\n",
    "        '''Solve sliding window maximum by monotonic queue in linear time.'''\n",
    "        mq = MonotonicQueue()\n",
    "        ans = []\n",
    "        for i, num in enumerate(nums):\n",
    "            mq.append(num)\n",
    "            # CAUTION!!!\n",
    "            if i >= k-1:\n",
    "                if i >= k and mq.max() == nums[i-k]:\n",
    "                    mq.pop()\n",
    "                ans.append(mq.max())\n",
    "        return ans"
   ]
  },
  {
   "cell_type": "code",
   "execution_count": null,
   "metadata": {
    "ExecuteTime": {
     "end_time": "2020-02-20T15:54:04.205847Z",
     "start_time": "2020-02-20T15:54:04.200845Z"
    }
   },
   "outputs": [],
   "source": [
    "# test\n",
    "print(Solution().maxSlidingWindow([1,3,-1,-3,5,3,6,7], 3))"
   ]
  }
 ],
 "metadata": {
  "kernelspec": {
   "display_name": "Python 3.8.1 64-bit",
   "language": "python",
   "name": "python38164bit95e09ab6981f4880a839b2c4c80e8cb6"
  },
  "language_info": {
   "codemirror_mode": {
    "name": "ipython",
    "version": 3
   },
   "file_extension": ".py",
   "mimetype": "text/x-python",
   "name": "python",
   "nbconvert_exporter": "python",
   "pygments_lexer": "ipython3",
   "version": "3.8.1"
  },
  "toc": {
   "base_numbering": 1,
   "nav_menu": {},
   "number_sections": false,
   "sideBar": true,
   "skip_h1_title": true,
   "title_cell": "Table of Contents",
   "title_sidebar": "Contents",
   "toc_cell": false,
   "toc_position": {},
   "toc_section_display": true,
   "toc_window_display": true
  }
 },
 "nbformat": 4,
 "nbformat_minor": 4
}
