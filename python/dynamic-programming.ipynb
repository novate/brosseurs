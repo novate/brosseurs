{
 "cells": [
  {
   "cell_type": "markdown",
   "metadata": {},
   "source": [
    "# Dynamic Programming"
   ]
  },
  {
   "cell_type": "markdown",
   "metadata": {},
   "source": [
    "I love bottom up.\n",
    "\n",
    "Bottom up shows off my technique.\n",
    "\n",
    "Sweet."
   ]
  },
  {
   "cell_type": "markdown",
   "metadata": {},
   "source": [
    "## Pre-run"
   ]
  },
  {
   "cell_type": "code",
   "execution_count": null,
   "metadata": {
    "ExecuteTime": {
     "end_time": "2020-02-21T15:17:01.301587Z",
     "start_time": "2020-02-21T15:17:01.295537Z"
    }
   },
   "outputs": [],
   "source": [
    "from typing import List\n",
    "from helpers.misc import *"
   ]
  },
  {
   "cell_type": "markdown",
   "metadata": {},
   "source": [
    "## Good to Read"
   ]
  },
  {
   "cell_type": "markdown",
   "metadata": {},
   "source": [
    "* [MIT OCW Dynamic Programming (also see recitation)](https://ocw.mit.edu/courses/electrical-engineering-and-computer-science/6-00sc-introduction-to-computer-science-and-programming-spring-2011/unit-3/lecture-23-dynamic-programming/)\n",
    "* [My experience and notes for learning DP](https://leetcode.com/discuss/general-discussion/475924/my-experience-and-notes-for-learning-dp)\n",
    "* [DP IS EASY! 5 Steps to Think Through DP Questions](https://leetcode.com/problems/target-sum/discuss/455024/dp-is-easy-5-steps-to-think-through-dp-questions/424058)\n",
    "* [怎样学好动态规划](https://www.zhihu.com/question/291280715/answer/1007691283)"
   ]
  },
  {
   "cell_type": "markdown",
   "metadata": {},
   "source": [
    "## DP Categories"
   ]
  },
  {
   "cell_type": "markdown",
   "metadata": {},
   "source": [
    "[Dynamic Programming Patterns Discussion](https://leetcode.com/discuss/general-discussion/458695/dynamic-programming-patterns)\n",
    "* Minimum (Maximum) Path to Reach a Target\n",
    "    * **Statement**: Given a target find minimum (maximum) cost / path / sum to reach the target.\n",
    "    * **Approach**: Choose minimum (maximum) path among all possible paths before the current state, then add value for the current state. Generate optimal solutions for all values in the target and return the value for the target.\n",
    "    * **Problems**: [746](https://leetcode.com/problems/min-cost-climbing-stairs/), [64](https://leetcode.com/problems/minimum-path-sum/), [322](https://leetcode.com/problems/coin-change/), [931](https://leetcode.com/problems/minimum-falling-path-sum/), [983](https://leetcode.com/problems/minimum-cost-for-tickets/), [650](https://leetcode.com/problems/2-keys-keyboard/), [279](https://leetcode.com/problems/perfect-squares/), [1049](https://leetcode.com/problems/last-stone-weight-ii/), [120](https://leetcode.com/problems/triangle/), [474](https://leetcode.com/problems/ones-and-zeroes/), [221](https://leetcode.com/problems/maximal-square/), [322](https://leetcode.com/problems/coin-change/), [1240](https://leetcode.com/problems/tiling-a-rectangle-with-the-fewest-squares/), [174](https://leetcode.com/problems/dungeon-game/), [871](https://leetcode.com/problems/minimum-number-of-refueling-stops/)\n",
    "* Distinct Ways\n",
    "    * **Statement**: Given a target find a number of distinct ways to reach the target.\n",
    "    * **Approach**: Sum all possible ways to reach the current state. Generate sum for all values in the target and return the value for the target.\n",
    "    * **Note**: Some questions point out the number of repetitions, in that case, add one more loop to simulate every repetition.\n",
    "    * **Problems**: [70](https://leetcode.com/problems/climbing-stairs/), [62](https://leetcode.com/problems/unique-paths/), [1155](https://leetcode.com/problems/number-of-dice-rolls-with-target-sum/), [688](https://leetcode.com/problems/knight-probability-in-chessboard/), [494](https://leetcode.com/problems/target-sum/), [377](https://leetcode.com/problems/combination-sum-iv/), [935](https://leetcode.com/problems/knight-dialer/), [1223](https://leetcode.com/problems/dice-roll-simulation/), [416](https://leetcode.com/problems/partition-equal-subset-sum/), [808](https://leetcode.com/problems/soup-servings/), [790](https://leetcode.com/problems/domino-and-tromino-tiling/), [801](https://leetcode.com/problems/minimum-swaps-to-make-sequences-increasing/), [673](https://leetcode.com/problems/number-of-longest-increasing-subsequence/), [63](https://leetcode.com/problems/unique-paths-ii/), [576](https://leetcode.com/problems/out-of-boundary-paths/), [1269](https://leetcode.com/problems/number-of-ways-to-stay-in-the-same-place-after-some-steps/), [1220](https://leetcode.com/problems/count-vowels-permutation/)\n",
    "* Merging Intervals\n",
    "* DP on Strings\n",
    "* Decision Making"
   ]
  },
  {
   "cell_type": "markdown",
   "metadata": {},
   "source": [
    "## Techniques"
   ]
  },
  {
   "cell_type": "markdown",
   "metadata": {},
   "source": [
    "* two DP mem swapping\n",
    "    * Store the most recent two steps to save space, if there is no need to store results of all steps.\n",
    "    * [1155](https://leetcode.com/problems/number-of-dice-rolls-with-target-sum/), [688](https://leetcode.com/problems/knight-probability-in-chessboard/)"
   ]
  },
  {
   "cell_type": "markdown",
   "metadata": {},
   "source": [
    "## 70 [Climbing Stairs](https://leetcode.com/problems/climbing-stairs) - E"
   ]
  },
  {
   "cell_type": "markdown",
   "metadata": {},
   "source": [
    "Actually it is a Fibonacci problem."
   ]
  },
  {
   "cell_type": "markdown",
   "metadata": {},
   "source": [
    "### Top Down"
   ]
  },
  {
   "cell_type": "markdown",
   "metadata": {},
   "source": [
    "* Runtime: 24 ms, faster than 84.48% of Python3 online submissions for Climbing Stairs.\n",
    "* Memory Usage: 12.7 MB, less than 100.00% of Python3 online submissions for Climbing Stairs."
   ]
  },
  {
   "cell_type": "code",
   "execution_count": null,
   "metadata": {
    "ExecuteTime": {
     "end_time": "2020-02-21T09:16:33.393206Z",
     "start_time": "2020-02-21T09:16:33.388213Z"
    }
   },
   "outputs": [],
   "source": [
    "class Solution:\n",
    "    def climbStairs(self, n: int) -> int:\n",
    "        '''Count the distinct way to climb to the top by DP top down.'''\n",
    "        # The memoization table\n",
    "        self._mem = {0:1, 1:1}\n",
    "        if n in self._mem:\n",
    "            return self._mem[n]\n",
    "        else:\n",
    "            result = self.climbStairs(n-1) + self.climbStairs(n-2)\n",
    "            self._mem[n] = result\n",
    "            return result"
   ]
  },
  {
   "cell_type": "code",
   "execution_count": null,
   "metadata": {
    "ExecuteTime": {
     "end_time": "2020-02-21T09:17:45.303868Z",
     "start_time": "2020-02-21T09:17:45.300867Z"
    }
   },
   "outputs": [],
   "source": [
    "# test\n",
    "eq(Solution().climbStairs(3), 3)\n",
    "eq(Solution().climbStairs(4), 5)"
   ]
  },
  {
   "cell_type": "markdown",
   "metadata": {},
   "source": [
    "### Bottom Up"
   ]
  },
  {
   "cell_type": "markdown",
   "metadata": {},
   "source": [
    "* Runtime: 28 ms, faster than 58.10% of Python3 online submissions for Climbing Stairs.\n",
    "* Memory Usage: 12.8 MB, less than 100.00% of Python3 online submissions for Climbing Stairs."
   ]
  },
  {
   "cell_type": "code",
   "execution_count": null,
   "metadata": {
    "ExecuteTime": {
     "end_time": "2020-02-21T09:29:22.557191Z",
     "start_time": "2020-02-21T09:29:22.552191Z"
    }
   },
   "outputs": [],
   "source": [
    "class Solution:\n",
    "    def climbStairs(self, n: int) -> int:\n",
    "        '''Count the distinct way to climb to the top by DP bottom up.'''\n",
    "        dp = {0: 1, 1: 1}\n",
    "        for i in range(2, n+1):\n",
    "            dp[i] = dp[i-1] + dp[i-2]\n",
    "        return dp[n]"
   ]
  },
  {
   "cell_type": "code",
   "execution_count": null,
   "metadata": {
    "ExecuteTime": {
     "end_time": "2020-02-21T09:29:29.360175Z",
     "start_time": "2020-02-21T09:29:29.357173Z"
    }
   },
   "outputs": [],
   "source": [
    "# test\n",
    "eq(Solution().climbStairs(3), 3)\n",
    "eq(Solution().climbStairs(4), 5)"
   ]
  },
  {
   "cell_type": "markdown",
   "metadata": {},
   "source": [
    "## 62 [Unique Paths](https://leetcode.com/problems/unique-paths/) - M"
   ]
  },
  {
   "cell_type": "markdown",
   "metadata": {},
   "source": [
    "### Bottom Up "
   ]
  },
  {
   "cell_type": "markdown",
   "metadata": {},
   "source": [
    "* Runtime: 24 ms, faster than 90.26% of Python3 online submissions for Unique Paths.\n",
    "* Memory Usage: 12.8 MB, less than 100.00% of Python3 online submissions for Unique Paths."
   ]
  },
  {
   "cell_type": "code",
   "execution_count": null,
   "metadata": {
    "ExecuteTime": {
     "end_time": "2020-02-21T10:04:10.748788Z",
     "start_time": "2020-02-21T10:04:10.740667Z"
    }
   },
   "outputs": [],
   "source": [
    "from collections import defaultdict\n",
    "class Solution:\n",
    "    def uniquePaths(self, m: int, n: int) -> int:\n",
    "        '''Find unique paths by DP bottom up.'''\n",
    "        # dp[m, n] = uniquePaths(m, n)\n",
    "        dp = defaultdict(int)\n",
    "        # dp[m, n] = dp[m, n-1] + dp[n, m-1]\n",
    "        for i in range(1, m+1):\n",
    "            for j in range(1, n+1):\n",
    "                if i == 1 and j == 1:\n",
    "                    dp[i, j] = 1\n",
    "                else:\n",
    "                    dp[i, j] = dp[i, j-1] + dp[i-1, j]\n",
    "        return dp[m, n]"
   ]
  },
  {
   "cell_type": "code",
   "execution_count": null,
   "metadata": {
    "ExecuteTime": {
     "end_time": "2020-02-21T10:04:15.527412Z",
     "start_time": "2020-02-21T10:04:15.524412Z"
    }
   },
   "outputs": [],
   "source": [
    "# test\n",
    "eq(Solution().uniquePaths(3, 2), 3)\n",
    "eq(Solution().uniquePaths(7, 3), 28)"
   ]
  },
  {
   "cell_type": "markdown",
   "metadata": {},
   "source": [
    "## 1155 [Number of Dice Rolls With Target Sum](https://leetcode.com/problems/number-of-dice-rolls-with-target-sum/) - M"
   ]
  },
  {
   "cell_type": "markdown",
   "metadata": {},
   "source": [
    "### Bottom Up"
   ]
  },
  {
   "cell_type": "markdown",
   "metadata": {},
   "source": [
    "* [Answer](https://massivealgorithms.blogspot.com/2019/09/leetcode-1155-number-of-dice-rolls-with.html)\n",
    "* Technique: two DP mem swapping, can save space.\n",
    "* Runtime: 1380 ms, faster than 6.48% of Python3 online submissions for Number of Dice Rolls With Target Sum.\n",
    "* Memory Usage: 12.9 MB, less than 100.00% of Python3 online submissions for Number of Dice Rolls With Target Sum."
   ]
  },
  {
   "cell_type": "code",
   "execution_count": null,
   "metadata": {
    "ExecuteTime": {
     "end_time": "2020-02-21T11:49:48.052469Z",
     "start_time": "2020-02-21T11:49:48.045471Z"
    }
   },
   "outputs": [],
   "source": [
    "from collections import defaultdict\n",
    "class Solution:\n",
    "    def numRollsToTarget(self, d: int, f: int, target: int) -> int:\n",
    "        '''Find the number of possible ways modulo 10^9 + 7 to roll the dice so the sum of the face up numbers equals target by DP bottom up.\n",
    "        \n",
    "        TC:     O(d * f * target)\n",
    "        SC:     O(target)\n",
    "        '''\n",
    "        # dp[i] = numRollsToTarget(dd, f, i), dd start at 1\n",
    "        dp = defaultdict(int, {i:1 for i in range(1, f+1)})\n",
    "        \n",
    "        # dp[tt] += dpb[tt-m] for m in range(1, f+1) while tt-m>0\n",
    "        for dd in range(2, d+1):\n",
    "            # dpa[i] = numRollsToTarget(dd+1, f, i) after dp\n",
    "            dpa = defaultdict(int)\n",
    "            for tt in range(dd, target+1):\n",
    "                m = 1   # number on new die\n",
    "                while tt > m and m <= f:\n",
    "                    dpa[tt] = (dpa[tt] + dp[tt-m]) % int(1e9 + 7)\n",
    "                    # TRICK: this one is faster than dpa[tt] += dp[tt-m] then dpa[tt] %= int(1e9 + 7)\n",
    "                    m += 1\n",
    "            dp = dpa\n",
    "        \n",
    "        return dp[target]"
   ]
  },
  {
   "cell_type": "code",
   "execution_count": null,
   "metadata": {
    "ExecuteTime": {
     "end_time": "2020-02-21T11:49:49.659558Z",
     "start_time": "2020-02-21T11:49:49.502858Z"
    }
   },
   "outputs": [],
   "source": [
    "# test\n",
    "eq(Solution().numRollsToTarget(1, 6, 3), 1)\n",
    "eq(Solution().numRollsToTarget(2, 6, 7), 6)\n",
    "eq(Solution().numRollsToTarget(2, 5, 10), 1)\n",
    "eq(Solution().numRollsToTarget(1, 2, 3), 0)\n",
    "eq(Solution().numRollsToTarget(30, 30, 500), 222616187)"
   ]
  },
  {
   "cell_type": "markdown",
   "metadata": {},
   "source": [
    "## 688 [Knight Probability in chessboard](https://leetcode.com/problems/knight-probability-in-chessboard/) - M"
   ]
  },
  {
   "cell_type": "markdown",
   "metadata": {},
   "source": [
    "* [Answer](https://leetcode.com/articles/knight-probability-in-chessboard/)\n",
    "* Runtime: 316 ms, faster than 17.38% of Python3 online submissions for Knight Probability in Chessboard.\n",
    "* Memory Usage: 13.1 MB, less than 100.00% of Python3 online submissions for Knight Probability in Chessboard."
   ]
  },
  {
   "cell_type": "markdown",
   "metadata": {},
   "source": [
    "### Bottom Up "
   ]
  },
  {
   "cell_type": "code",
   "execution_count": null,
   "metadata": {
    "ExecuteTime": {
     "end_time": "2020-02-21T16:46:34.329956Z",
     "start_time": "2020-02-21T16:46:34.321983Z"
    }
   },
   "outputs": [],
   "source": [
    "from collections import defaultdict\n",
    "class Solution:\n",
    "    def knightProbability(self, N: int, K: int, r: int, c: int) -> float:\n",
    "        '''Calculate the probability by DP bottom up.\n",
    "        \n",
    "        TC: O(K * N^2) for the three loops, the fourth loop loops 8 times which is a constant.\n",
    "        SC: O(N^2) for dp and dpa\n",
    "        '''\n",
    "        # TRICK: for chessboard or map, we can have an array to store all possible move incursion.\n",
    "        moves = ((1, 2), (1, -2), (-1, 2), (-1, -2), (2, 1), (2, -1), (-2, 1), (-2, -1))\n",
    "        # dp[r, c] is the possibility of still being on board in the current step\n",
    "        dp = defaultdict(float, {(x, y):1.0 for x in range(N) for y in range(N)})\n",
    "        \n",
    "        for kk in range(K):\n",
    "            # dpa dp of the next step\n",
    "            dpa = defaultdict(float)\n",
    "            for rr in range(N):\n",
    "                for cc in range(N):\n",
    "                    for move in moves:\n",
    "                        dpa[rr, cc] += dp[rr+move[0], cc+move[1]]\n",
    "                    dpa[rr, cc] /= 8\n",
    "            dp = dpa\n",
    "        \n",
    "        return dp[r, c]"
   ]
  },
  {
   "cell_type": "code",
   "execution_count": null,
   "metadata": {
    "ExecuteTime": {
     "end_time": "2020-02-21T16:46:35.845658Z",
     "start_time": "2020-02-21T16:46:35.832690Z"
    }
   },
   "outputs": [],
   "source": [
    "# test\n",
    "eq(Solution().knightProbability(3, 2, 0, 0), 0.0625)\n",
    "eq(Solution().knightProbability(1, 0, 0, 0), 1.0)\n",
    "eq(Solution().knightProbability(3, 3, 0, 0), 0.015625)\n",
    "eq(Solution().knightProbability(8, 30, 6, 4), 0.00019052566298333648)"
   ]
  },
  {
   "cell_type": "markdown",
   "metadata": {},
   "source": [
    "## 494 [Target Sum](https://leetcode.com/problems/target-sum/) - M"
   ]
  },
  {
   "cell_type": "code",
   "execution_count": null,
   "metadata": {},
   "outputs": [],
   "source": []
  }
 ],
 "metadata": {
  "file_extension": ".py",
  "kernelspec": {
   "display_name": "Python 3",
   "language": "python",
   "name": "python3"
  },
  "language_info": {
   "codemirror_mode": {
    "name": "ipython",
    "version": 3
   },
   "file_extension": ".py",
   "mimetype": "text/x-python",
   "name": "python",
   "nbconvert_exporter": "python",
   "pygments_lexer": "ipython3",
   "version": "3.8.1"
  },
  "mimetype": "text/x-python",
  "name": "python",
  "npconvert_exporter": "python",
  "pygments_lexer": "ipython3",
  "toc": {
   "base_numbering": 1,
   "nav_menu": {},
   "number_sections": false,
   "sideBar": true,
   "skip_h1_title": true,
   "title_cell": "Table of Contents",
   "title_sidebar": "Contents",
   "toc_cell": false,
   "toc_position": {
    "height": "calc(100% - 180px)",
    "left": "10px",
    "top": "150px",
    "width": "255.594px"
   },
   "toc_section_display": true,
   "toc_window_display": true
  },
  "version": 3
 },
 "nbformat": 4,
 "nbformat_minor": 2
}
