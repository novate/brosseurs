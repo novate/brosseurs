{
 "cells": [
  {
   "cell_type": "markdown",
   "metadata": {},
   "source": [
    "# Dynamic Programming"
   ]
  },
  {
   "cell_type": "markdown",
   "metadata": {},
   "source": [
    "I love bottom up.\n",
    "\n",
    "Bottom up shows off my technique.\n",
    "\n",
    "Sweet."
   ]
  },
  {
   "cell_type": "markdown",
   "metadata": {},
   "source": [
    "## Pre-run"
   ]
  },
  {
   "cell_type": "code",
   "execution_count": null,
   "metadata": {
    "ExecuteTime": {
     "end_time": "2020-02-22T10:29:10.664729Z",
     "start_time": "2020-02-22T10:29:10.658701Z"
    }
   },
   "outputs": [],
   "source": [
    "from typing import List\n",
    "from helpers.misc import *"
   ]
  },
  {
   "cell_type": "markdown",
   "metadata": {},
   "source": [
    "## Techniques"
   ]
  },
  {
   "cell_type": "markdown",
   "metadata": {},
   "source": [
    "* DFS <-> DP Top Down <-> Memoization Table <-> Recursion\n",
    "    * When finding all possible routes, we should use DFS to touch every end, i.e. [Word Break II](https://leetcode.com/problems/word-break-ii/).\n",
    "* BFS <-> DP Bottom Up <-> Growing Table\n",
    "* Two DP mem swapping\n",
    "    * **Approach**: Store the most recent two steps to save space, if there is no need to store results of all steps.\n",
    "    * **Problems**: [1155](https://leetcode.com/problems/number-of-dice-rolls-with-target-sum/), [688](https://leetcode.com/problems/knight-probability-in-chessboard/), [494](https://leetcode.com/problems/target-sum/)"
   ]
  },
  {
   "cell_type": "markdown",
   "metadata": {},
   "source": [
    "## DP Categories"
   ]
  },
  {
   "cell_type": "markdown",
   "metadata": {},
   "source": [
    "[Dynamic Programming Patterns Discussion](https://leetcode.com/discuss/general-discussion/458695/dynamic-programming-patterns)\n",
    "* Minimum (Maximum) Path to Reach a Target\n",
    "    * **Statement**: Given a target find minimum (maximum) cost / path / sum to reach the target.\n",
    "    * **Approach**:\n",
    "        * Choose minimum (maximum) path among all possible paths before the current state.\n",
    "        * Add value for the current state.\n",
    "        * Generate optimal solutions for all values in the target and return the value for the target.\n",
    "    * **Problems**: [746](https://leetcode.com/problems/min-cost-climbing-stairs/), [64](https://leetcode.com/problems/minimum-path-sum/), [322](https://leetcode.com/problems/coin-change/), [931](https://leetcode.com/problems/minimum-falling-path-sum/), [983](https://leetcode.com/problems/minimum-cost-for-tickets/), [650](https://leetcode.com/problems/2-keys-keyboard/), [279](https://leetcode.com/problems/perfect-squares/), [1049](https://leetcode.com/problems/last-stone-weight-ii/), [120](https://leetcode.com/problems/triangle/), [474](https://leetcode.com/problems/ones-and-zeroes/), [221](https://leetcode.com/problems/maximal-square/), [1240](https://leetcode.com/problems/tiling-a-rectangle-with-the-fewest-squares/), [174](https://leetcode.com/problems/dungeon-game/), [871](https://leetcode.com/problems/minimum-number-of-refueling-stops/)\n",
    "* Distinct Ways\n",
    "    * **Statement**: Given a target find a number of distinct ways to reach the target.\n",
    "    * **Approach**:\n",
    "        * Sum all possible ways to reach the current state.\n",
    "        * Generate sum for all values in the target.\n",
    "        * Return the value for the target.\n",
    "    * **Note**: Some questions point out the number of repetitions, in that case, add one more loop to simulate every repetition.\n",
    "    * **Problems**: [70](https://leetcode.com/problems/climbing-stairs/), [62](https://leetcode.com/problems/unique-paths/), [1155](https://leetcode.com/problems/number-of-dice-rolls-with-target-sum/), [688](https://leetcode.com/problems/knight-probability-in-chessboard/), [494](https://leetcode.com/problems/target-sum/), [377](https://leetcode.com/problems/combination-sum-iv/), [935](https://leetcode.com/problems/knight-dialer/), [1223](https://leetcode.com/problems/dice-roll-simulation/), [416](https://leetcode.com/problems/partition-equal-subset-sum/), [808](https://leetcode.com/problems/soup-servings/), [790](https://leetcode.com/problems/domino-and-tromino-tiling/), [801](https://leetcode.com/problems/minimum-swaps-to-make-sequences-increasing/), [673](https://leetcode.com/problems/number-of-longest-increasing-subsequence/), [63](https://leetcode.com/problems/unique-paths-ii/), [576](https://leetcode.com/problems/out-of-boundary-paths/), [1269](https://leetcode.com/problems/number-of-ways-to-stay-in-the-same-place-after-some-steps/), [1220](https://leetcode.com/problems/count-vowels-permutation/)\n",
    "* Merging Intervals\n",
    "    * **Statement**: Given a set of numbers find an optimal solution for a problem considering the current number and the best you can get from the left and right sides.\n",
    "    * **Approach**:\n",
    "        * Find all optimal solutions for every interval and return the best possible answer.\n",
    "        * Get the best from the left and right sides and add a solution for the current position.\n",
    "    * **Problems**: [1130](https://leetcode.com/problems/minimum-cost-tree-from-leaf-values/), [96](https://leetcode.com/problems/unique-binary-search-trees/), [1039](https://leetcode.com/problems/minimum-score-triangulation-of-polygon/), [546](https://leetcode.com/problems/remove-boxes/), [1000](https://leetcode.com/problems/minimum-cost-to-merge-stones/), [312](https://leetcode.com/problems/burst-balloons/), [375](https://leetcode.com/problems/guess-number-higher-or-lower-ii/)\n",
    "* DP on Strings\n",
    "* Decision Making"
   ]
  },
  {
   "cell_type": "markdown",
   "metadata": {},
   "source": [
    "## Good to Read"
   ]
  },
  {
   "cell_type": "markdown",
   "metadata": {},
   "source": [
    "* [MIT OCW Dynamic Programming (also see recitation)](https://ocw.mit.edu/courses/electrical-engineering-and-computer-science/6-00sc-introduction-to-computer-science-and-programming-spring-2011/unit-3/lecture-23-dynamic-programming/)\n",
    "* [My experience and notes for learning DP](https://leetcode.com/discuss/general-discussion/475924/my-experience-and-notes-for-learning-dp)\n",
    "* [DP IS EASY! 5 Steps to Think Through DP Questions](https://leetcode.com/problems/target-sum/discuss/455024/dp-is-easy-5-steps-to-think-through-dp-questions/424058)\n",
    "* [怎样学好动态规划](https://www.zhihu.com/question/291280715/answer/1007691283)"
   ]
  },
  {
   "cell_type": "markdown",
   "metadata": {},
   "source": [
    "## 746 [Min Cost Climbing Stairs](https://leetcode.com/problems/min-cost-climbing-stairs/) - E"
   ]
  },
  {
   "cell_type": "markdown",
   "metadata": {},
   "source": [
    "f[n] = cost[n] + min(f[n-1] + f[n-2])"
   ]
  },
  {
   "cell_type": "markdown",
   "metadata": {},
   "source": [
    "### Bottom Up "
   ]
  },
  {
   "cell_type": "markdown",
   "metadata": {},
   "source": [
    "* Runtime: 64 ms, faster than 24.48% of Python3 online submissions for Min Cost Climbing Stairs.\n",
    "* Memory Usage: 12.8 MB, less than 100.00% of Python3 online submissions for Min Cost Climbing Stairs."
   ]
  },
  {
   "cell_type": "code",
   "execution_count": null,
   "metadata": {
    "ExecuteTime": {
     "end_time": "2020-02-22T03:18:44.312745Z",
     "start_time": "2020-02-22T03:18:44.306744Z"
    }
   },
   "outputs": [],
   "source": [
    "class Solution:\n",
    "    def minCostClimbingStairs(self, cost: List[int]) -> int:\n",
    "        # dp[i] is the minimum cost to climb to i-th step.\n",
    "        dp = []\n",
    "        for i, c in enumerate(cost):\n",
    "            if i <= 1:\n",
    "                dp.append(c)\n",
    "            else:\n",
    "                dp.append(min(c + dp[i-1], c + dp[i-2]))\n",
    "        \n",
    "        return min(dp[-2:])"
   ]
  },
  {
   "cell_type": "code",
   "execution_count": null,
   "metadata": {
    "ExecuteTime": {
     "end_time": "2020-02-22T03:18:44.319746Z",
     "start_time": "2020-02-22T03:18:44.314747Z"
    }
   },
   "outputs": [],
   "source": [
    "# test\n",
    "eq(Solution().minCostClimbingStairs([10, 15, 20]), 15)\n",
    "eq(Solution().minCostClimbingStairs([1, 100, 1, 1, 1, 100, 1, 1, 100, 1]), 6)"
   ]
  },
  {
   "cell_type": "markdown",
   "metadata": {},
   "source": [
    "### Better Bottom Up "
   ]
  },
  {
   "cell_type": "markdown",
   "metadata": {},
   "source": [
    "* Runtime: 52 ms, faster than 91.81% of Python3 online submissions for Min Cost Climbing Stairs.\n",
    "* Memory Usage: 12.7 MB, less than 100.00% of Python3 online submissions for Min Cost Climbing Stairs."
   ]
  },
  {
   "cell_type": "code",
   "execution_count": null,
   "metadata": {
    "ExecuteTime": {
     "end_time": "2020-02-22T03:18:44.372744Z",
     "start_time": "2020-02-22T03:18:44.366749Z"
    }
   },
   "outputs": [],
   "source": [
    "class Solution:\n",
    "    def minCostClimbingStairs(self, cost: List[int]) -> int:\n",
    "        # all we need to store is the last two step.\n",
    "        f1 = f2 = 0\n",
    "        for x in reversed(cost):\n",
    "            f1, f2 = x + min(f1, f2), f1\n",
    "        return min(f1, f2)"
   ]
  },
  {
   "cell_type": "code",
   "execution_count": null,
   "metadata": {
    "ExecuteTime": {
     "end_time": "2020-02-22T03:18:44.383779Z",
     "start_time": "2020-02-22T03:18:44.374747Z"
    }
   },
   "outputs": [],
   "source": [
    "# test\n",
    "eq(Solution().minCostClimbingStairs([10, 15, 20]), 15)\n",
    "eq(Solution().minCostClimbingStairs([1, 100, 1, 1, 1, 100, 1, 1, 100, 1]), 6)"
   ]
  },
  {
   "cell_type": "markdown",
   "metadata": {},
   "source": [
    "## 64 [Minimum Path Sum](https://leetcode.com/problems/minimum-path-sum/) - M"
   ]
  },
  {
   "cell_type": "markdown",
   "metadata": {},
   "source": [
    "### Bottom Up "
   ]
  },
  {
   "cell_type": "markdown",
   "metadata": {},
   "source": [
    "* Runtime: 112 ms, faster than 33.40% of Python3 online submissions for Minimum Path Sum.\n",
    "* Memory Usage: 18 MB, less than 17.54% of Python3 online submissions for Minimum Path Sum."
   ]
  },
  {
   "cell_type": "code",
   "execution_count": null,
   "metadata": {
    "ExecuteTime": {
     "end_time": "2020-02-22T03:53:24.648984Z",
     "start_time": "2020-02-22T03:53:24.642008Z"
    }
   },
   "outputs": [],
   "source": [
    "class Solution:\n",
    "    def minPathSum(self, grid: List[List[int]]) -> int:\n",
    "        '''Solve the minimum path sum using DP bottom up.'''\n",
    "        if grid:\n",
    "            m = len(grid)\n",
    "        if m:\n",
    "            n = len(grid[0])\n",
    "        # dp[i, j] is the minimum path sum from (0, 0) to (i, j)\n",
    "        dp = {}\n",
    "        for i in range(m):\n",
    "            for j in range(n):\n",
    "                if i == 0 and j == 0:\n",
    "                    dp[i, j] = grid[i][j]\n",
    "                elif i == 0:\n",
    "                    dp[i, j] = grid[i][j] + dp[i, j-1]\n",
    "                elif j == 0:\n",
    "                    dp[i, j] = grid[i][j] + dp[i-1, j]\n",
    "                else:\n",
    "                    dp[i, j] = grid[i][j] + min(dp[i-1, j], dp[i, j-1])\n",
    "        return dp[m-1, n-1]"
   ]
  },
  {
   "cell_type": "code",
   "execution_count": null,
   "metadata": {
    "ExecuteTime": {
     "end_time": "2020-02-22T03:53:26.444364Z",
     "start_time": "2020-02-22T03:53:26.441329Z"
    }
   },
   "outputs": [],
   "source": [
    "# test\n",
    "eq(Solution().minPathSum([[1,3,1],[1,5,1],[4,2,1]]), 7)"
   ]
  },
  {
   "cell_type": "markdown",
   "metadata": {},
   "source": [
    "### Better Bottom Up "
   ]
  },
  {
   "cell_type": "markdown",
   "metadata": {},
   "source": [
    "* Reduce SC from O(mn) to O(1)\n",
    "* Runtime: 104 ms, faster than 57.93% of Python3 online submissions for Minimum Path Sum.\n",
    "* Memory Usage: 14.6 MB, less than 56.14% of Python3 online submissions for Minimum Path Sum."
   ]
  },
  {
   "cell_type": "code",
   "execution_count": null,
   "metadata": {
    "ExecuteTime": {
     "end_time": "2020-02-22T03:59:17.527771Z",
     "start_time": "2020-02-22T03:59:17.521781Z"
    }
   },
   "outputs": [],
   "source": [
    "class Solution:\n",
    "    def minPathSum(self, grid: List[List[int]]) -> int:\n",
    "        '''Solve the minimum path sum using DP bottom up.'''\n",
    "        if grid:\n",
    "            m = len(grid)\n",
    "        if m:\n",
    "            n = len(grid[0])\n",
    "        for i in range(m):\n",
    "            for j in range(n):\n",
    "                if i == 0 and j == 0:\n",
    "                    continue\n",
    "                elif i == 0:\n",
    "                    grid[i][j] += grid[i][j-1]\n",
    "                elif j == 0:\n",
    "                    grid[i][j] += grid[i-1][j]\n",
    "                else:\n",
    "                    grid[i][j] += min(grid[i][j-1], grid[i-1][j])\n",
    "        return grid[m-1][n-1]"
   ]
  },
  {
   "cell_type": "code",
   "execution_count": null,
   "metadata": {
    "ExecuteTime": {
     "end_time": "2020-02-22T03:59:19.309400Z",
     "start_time": "2020-02-22T03:59:19.305401Z"
    }
   },
   "outputs": [],
   "source": [
    "# test\n",
    "eq(Solution().minPathSum([[1,3,1],[1,5,1],[4,2,1]]), 7)"
   ]
  },
  {
   "cell_type": "markdown",
   "metadata": {},
   "source": [
    "## 70 [Climbing Stairs](https://leetcode.com/problems/climbing-stairs) - E"
   ]
  },
  {
   "cell_type": "markdown",
   "metadata": {},
   "source": [
    "Actually it is a Fibonacci problem."
   ]
  },
  {
   "cell_type": "markdown",
   "metadata": {},
   "source": [
    "### Top Down"
   ]
  },
  {
   "cell_type": "markdown",
   "metadata": {},
   "source": [
    "* Runtime: 24 ms, faster than 84.48% of Python3 online submissions for Climbing Stairs.\n",
    "* Memory Usage: 12.7 MB, less than 100.00% of Python3 online submissions for Climbing Stairs."
   ]
  },
  {
   "cell_type": "code",
   "execution_count": null,
   "metadata": {
    "ExecuteTime": {
     "end_time": "2020-02-22T03:18:44.402779Z",
     "start_time": "2020-02-22T03:18:44.385750Z"
    }
   },
   "outputs": [],
   "source": [
    "class Solution:\n",
    "    def climbStairs(self, n: int) -> int:\n",
    "        '''Count the distinct way to climb to the top by DP top down.'''\n",
    "        # The memoization table\n",
    "        self._mem = {0:1, 1:1}\n",
    "        if n in self._mem:\n",
    "            return self._mem[n]\n",
    "        else:\n",
    "            result = self.climbStairs(n-1) + self.climbStairs(n-2)\n",
    "            self._mem[n] = result\n",
    "            return result"
   ]
  },
  {
   "cell_type": "code",
   "execution_count": null,
   "metadata": {
    "ExecuteTime": {
     "end_time": "2020-02-22T03:18:44.417772Z",
     "start_time": "2020-02-22T03:18:44.403747Z"
    }
   },
   "outputs": [],
   "source": [
    "# test\n",
    "eq(Solution().climbStairs(3), 3)\n",
    "eq(Solution().climbStairs(4), 5)"
   ]
  },
  {
   "cell_type": "markdown",
   "metadata": {},
   "source": [
    "### Bottom Up"
   ]
  },
  {
   "cell_type": "markdown",
   "metadata": {},
   "source": [
    "* Runtime: 28 ms, faster than 58.10% of Python3 online submissions for Climbing Stairs.\n",
    "* Memory Usage: 12.8 MB, less than 100.00% of Python3 online submissions for Climbing Stairs."
   ]
  },
  {
   "cell_type": "code",
   "execution_count": null,
   "metadata": {
    "ExecuteTime": {
     "end_time": "2020-02-22T03:18:44.432747Z",
     "start_time": "2020-02-22T03:18:44.419746Z"
    }
   },
   "outputs": [],
   "source": [
    "class Solution:\n",
    "    def climbStairs(self, n: int) -> int:\n",
    "        '''Count the distinct way to climb to the top by DP bottom up.'''\n",
    "        dp = {0: 1, 1: 1}\n",
    "        for i in range(2, n+1):\n",
    "            dp[i] = dp[i-1] + dp[i-2]\n",
    "        return dp[n]"
   ]
  },
  {
   "cell_type": "code",
   "execution_count": null,
   "metadata": {
    "ExecuteTime": {
     "end_time": "2020-02-22T03:18:44.439745Z",
     "start_time": "2020-02-22T03:18:44.434744Z"
    }
   },
   "outputs": [],
   "source": [
    "# test\n",
    "eq(Solution().climbStairs(3), 3)\n",
    "eq(Solution().climbStairs(4), 5)"
   ]
  },
  {
   "cell_type": "markdown",
   "metadata": {},
   "source": [
    "## 62 [Unique Paths](https://leetcode.com/problems/unique-paths/) - M"
   ]
  },
  {
   "cell_type": "markdown",
   "metadata": {},
   "source": [
    "### Bottom Up "
   ]
  },
  {
   "cell_type": "markdown",
   "metadata": {},
   "source": [
    "* Runtime: 24 ms, faster than 90.26% of Python3 online submissions for Unique Paths.\n",
    "* Memory Usage: 12.8 MB, less than 100.00% of Python3 online submissions for Unique Paths."
   ]
  },
  {
   "cell_type": "code",
   "execution_count": null,
   "metadata": {
    "ExecuteTime": {
     "end_time": "2020-02-22T03:18:44.450750Z",
     "start_time": "2020-02-22T03:18:44.443744Z"
    }
   },
   "outputs": [],
   "source": [
    "from collections import defaultdict\n",
    "class Solution:\n",
    "    def uniquePaths(self, m: int, n: int) -> int:\n",
    "        '''Find unique paths by DP bottom up.'''\n",
    "        # dp[m, n] = uniquePaths(m, n)\n",
    "        dp = defaultdict(int)\n",
    "        # dp[m, n] = dp[m, n-1] + dp[n, m-1]\n",
    "        for i in range(1, m+1):\n",
    "            for j in range(1, n+1):\n",
    "                if i == 1 and j == 1:\n",
    "                    dp[i, j] = 1\n",
    "                else:\n",
    "                    dp[i, j] = dp[i, j-1] + dp[i-1, j]\n",
    "        return dp[m, n]"
   ]
  },
  {
   "cell_type": "code",
   "execution_count": null,
   "metadata": {
    "ExecuteTime": {
     "end_time": "2020-02-22T03:18:44.459744Z",
     "start_time": "2020-02-22T03:18:44.452747Z"
    }
   },
   "outputs": [],
   "source": [
    "# test\n",
    "eq(Solution().uniquePaths(3, 2), 3)\n",
    "eq(Solution().uniquePaths(7, 3), 28)"
   ]
  },
  {
   "cell_type": "markdown",
   "metadata": {},
   "source": [
    "## 1155 [Number of Dice Rolls With Target Sum](https://leetcode.com/problems/number-of-dice-rolls-with-target-sum/) - M"
   ]
  },
  {
   "cell_type": "markdown",
   "metadata": {},
   "source": [
    "* [Solution](https://massivealgorithms.blogspot.com/2019/09/leetcode-1155-number-of-dice-rolls-with.html)"
   ]
  },
  {
   "cell_type": "markdown",
   "metadata": {},
   "source": [
    "### Bottom Up"
   ]
  },
  {
   "cell_type": "markdown",
   "metadata": {},
   "source": [
    "* Technique: two DP mem swapping, can save space.\n",
    "* Runtime: 1380 ms, faster than 6.48% of Python3 online submissions for Number of Dice Rolls With Target Sum.\n",
    "* Memory Usage: 12.9 MB, less than 100.00% of Python3 online submissions for Number of Dice Rolls With Target Sum."
   ]
  },
  {
   "cell_type": "code",
   "execution_count": null,
   "metadata": {
    "ExecuteTime": {
     "end_time": "2020-02-22T03:18:44.467745Z",
     "start_time": "2020-02-22T03:18:44.461744Z"
    }
   },
   "outputs": [],
   "source": [
    "from collections import defaultdict\n",
    "class Solution:\n",
    "    def numRollsToTarget(self, d: int, f: int, target: int) -> int:\n",
    "        '''Find the number of possible ways modulo 10^9 + 7 to roll the dice so the sum of the face up numbers equals target by DP bottom up.\n",
    "        \n",
    "        TC:     O(d * f * target)\n",
    "        SC:     O(target)\n",
    "        '''\n",
    "        # dp[i] = numRollsToTarget(dd, f, i), dd start at 1\n",
    "        dp = defaultdict(int, {i:1 for i in range(1, f+1)})\n",
    "        \n",
    "        # dp[tt] += dpb[tt-m] for m in range(1, f+1) while tt-m>0\n",
    "        for dd in range(2, d+1):\n",
    "            # dpa[i] = numRollsToTarget(dd+1, f, i) after dp\n",
    "            dpa = defaultdict(int)\n",
    "            for tt in range(dd, target+1):\n",
    "                m = 1   # number on new die\n",
    "                while tt > m and m <= f:\n",
    "                    dpa[tt] = (dpa[tt] + dp[tt-m]) % int(1e9 + 7)\n",
    "                    # TRICK: this one is faster than dpa[tt] += dp[tt-m] then dpa[tt] %= int(1e9 + 7)\n",
    "                    m += 1\n",
    "            dp = dpa\n",
    "        \n",
    "        return dp[target]"
   ]
  },
  {
   "cell_type": "code",
   "execution_count": null,
   "metadata": {
    "ExecuteTime": {
     "end_time": "2020-02-22T03:18:44.694760Z",
     "start_time": "2020-02-22T03:18:44.469745Z"
    }
   },
   "outputs": [],
   "source": [
    "# test\n",
    "eq(Solution().numRollsToTarget(1, 6, 3), 1)\n",
    "eq(Solution().numRollsToTarget(2, 6, 7), 6)\n",
    "eq(Solution().numRollsToTarget(2, 5, 10), 1)\n",
    "eq(Solution().numRollsToTarget(1, 2, 3), 0)\n",
    "eq(Solution().numRollsToTarget(30, 30, 500), 222616187)"
   ]
  },
  {
   "cell_type": "markdown",
   "metadata": {},
   "source": [
    "## 688 [Knight Probability in chessboard](https://leetcode.com/problems/knight-probability-in-chessboard/) - M"
   ]
  },
  {
   "cell_type": "markdown",
   "metadata": {},
   "source": [
    "* [Solution](https://leetcode.com/articles/knight-probability-in-chessboard/)"
   ]
  },
  {
   "cell_type": "markdown",
   "metadata": {},
   "source": [
    "### Bottom Up"
   ]
  },
  {
   "cell_type": "markdown",
   "metadata": {},
   "source": [
    "* Runtime: 316 ms, faster than 17.38% of Python3 online submissions for Knight Probability in Chessboard.\n",
    "* Memory Usage: 13.1 MB, less than 100.00% of Python3 online submissions for Knight Probability in Chessboard."
   ]
  },
  {
   "cell_type": "code",
   "execution_count": null,
   "metadata": {
    "ExecuteTime": {
     "end_time": "2020-02-22T03:18:44.703756Z",
     "start_time": "2020-02-22T03:18:44.695746Z"
    }
   },
   "outputs": [],
   "source": [
    "from collections import defaultdict\n",
    "class Solution:\n",
    "    def knightProbability(self, N: int, K: int, r: int, c: int) -> float:\n",
    "        '''Calculate the probability by DP bottom up.\n",
    "        \n",
    "        TC: O(K * N^2) for the three loops, the fourth loop loops 8 times which is a constant.\n",
    "        SC: O(N^2) for dp and dpa\n",
    "        '''\n",
    "        # TRICK: for chessboard or map, we can have an array to store all possible move incursion.\n",
    "        moves = ((1, 2), (1, -2), (-1, 2), (-1, -2), (2, 1), (2, -1), (-2, 1), (-2, -1))\n",
    "        # dp[r, c] is the possibility of still being on board in the current step\n",
    "        dp = defaultdict(float, {(x, y):1.0 for x in range(N) for y in range(N)})\n",
    "        \n",
    "        for kk in range(K):\n",
    "            # dpa dp of the next step\n",
    "            dpa = defaultdict(float)\n",
    "            for rr in range(N):\n",
    "                for cc in range(N):\n",
    "                    for move in moves:\n",
    "                        dpa[rr, cc] += dp[rr+move[0], cc+move[1]]\n",
    "                    dpa[rr, cc] /= 8\n",
    "            dp = dpa\n",
    "        \n",
    "        return dp[r, c]"
   ]
  },
  {
   "cell_type": "code",
   "execution_count": null,
   "metadata": {
    "ExecuteTime": {
     "end_time": "2020-02-22T03:18:44.722290Z",
     "start_time": "2020-02-22T03:18:44.705288Z"
    }
   },
   "outputs": [],
   "source": [
    "# test\n",
    "eq(Solution().knightProbability(3, 2, 0, 0), 0.0625)\n",
    "eq(Solution().knightProbability(1, 0, 0, 0), 1.0)\n",
    "eq(Solution().knightProbability(3, 3, 0, 0), 0.015625)\n",
    "eq(Solution().knightProbability(8, 30, 6, 4), 0.00019052566298333648)"
   ]
  },
  {
   "cell_type": "markdown",
   "metadata": {},
   "source": [
    "## 494 [Target Sum](https://leetcode.com/problems/target-sum/) - M"
   ]
  },
  {
   "cell_type": "markdown",
   "metadata": {},
   "source": [
    "### Bottom Up"
   ]
  },
  {
   "cell_type": "markdown",
   "metadata": {},
   "source": [
    "* Runtime: 212 ms, faster than 76.53% of Python3 online submissions for Target Sum.\n",
    "* Memory Usage: 12.7 MB, less than 100.00% of Python3 online submissions for Target Sum."
   ]
  },
  {
   "cell_type": "code",
   "execution_count": null,
   "metadata": {
    "ExecuteTime": {
     "end_time": "2020-02-22T03:18:44.730299Z",
     "start_time": "2020-02-22T03:18:44.724292Z"
    }
   },
   "outputs": [],
   "source": [
    "from collections import defaultdict\n",
    "class Solution:\n",
    "    def findTargetSumWays(self, nums: List[int], S: int) -> int:\n",
    "        '''Find ways of having the target sum by DP bottom up.'''\n",
    "        # dp[i] is ways of i\n",
    "        dp = defaultdict(int)\n",
    "        \n",
    "        for num in nums:\n",
    "            dpa = defaultdict(int)\n",
    "            # first\n",
    "            if not dp:\n",
    "                dpa[num] += 1\n",
    "                dpa[-num] += 1\n",
    "            for key in dp:\n",
    "                dpa[key+num] += dp[key]\n",
    "                dpa[key-num] += dp[key]\n",
    "            dp = dpa\n",
    "        \n",
    "        return dp[S]"
   ]
  },
  {
   "cell_type": "code",
   "execution_count": null,
   "metadata": {
    "ExecuteTime": {
     "end_time": "2020-02-22T03:18:44.737292Z",
     "start_time": "2020-02-22T03:18:44.732288Z"
    }
   },
   "outputs": [],
   "source": [
    "# test\n",
    "eq(Solution().findTargetSumWays([1, 1, 1, 1, 1], 3), 5)\n",
    "eq(Solution().findTargetSumWays([1, 1, 1, 1, 1], 6), 0)"
   ]
  },
  {
   "cell_type": "markdown",
   "metadata": {},
   "source": [
    "## 121 [Best Time to Buy and Sell Stock](https://leetcode.com/problems/best-time-to-buy-and-sell-stock/) - E"
   ]
  },
  {
   "cell_type": "markdown",
   "metadata": {},
   "source": [
    "### Two Pointers"
   ]
  },
  {
   "cell_type": "markdown",
   "metadata": {},
   "source": [
    "* Runtime: 56 ms, faster than 94.83% of Python3 online submissions for Best Time to Buy and Sell Stock.\n",
    "* Memory Usage: 13.8 MB, less than 90.80% of Python3 online submissions for Best Time to Buy and Sell Stock."
   ]
  },
  {
   "cell_type": "code",
   "execution_count": null,
   "metadata": {},
   "outputs": [],
   "source": [
    "class Solution:\n",
    "    def maxProfit(self, prices: List[int]) -> int:\n",
    "        '''Calculate the max profit by two pointers.'''\n",
    "        if len(prices) < 2:\n",
    "            return 0\n",
    "        profit = 0\n",
    "        l, r = 0, 1\n",
    "        while r < len(prices):\n",
    "            if prices[l] > prices[r]:\n",
    "                l, r = r, r+1\n",
    "            else:\n",
    "                profit = max(profit, prices[r] - prices[l])\n",
    "                r += 1\n",
    "        return profit"
   ]
  },
  {
   "cell_type": "code",
   "execution_count": null,
   "metadata": {},
   "outputs": [],
   "source": [
    "eq(Solution().maxProfit([7,1,5,3,6,4]), 5)"
   ]
  },
  {
   "cell_type": "markdown",
   "metadata": {},
   "source": [
    "## 122 [Best Time to Buy and Sell Stock II](https://leetcode.com/problems/best-time-to-buy-and-sell-stock-ii/) - E"
   ]
  },
  {
   "cell_type": "markdown",
   "metadata": {},
   "source": [
    "### DP Bottom Up"
   ]
  },
  {
   "cell_type": "markdown",
   "metadata": {},
   "source": [
    "* Runtime: 60 ms, faster than 77.56% of Python3 online submissions for Best Time to Buy and Sell Stock II.\n",
    "* Memory Usage: 13.9 MB, less than 63.42% of Python3 online submissions for Best Time to Buy and Sell Stock II."
   ]
  },
  {
   "cell_type": "code",
   "execution_count": null,
   "metadata": {},
   "outputs": [],
   "source": [
    "class Solution:\n",
    "    def maxProfit(self, prices: List[int]) -> int:\n",
    "        '''Calculate the max profit by DP bottom up.'''\n",
    "        if len(prices) < 2:\n",
    "            return 0\n",
    "        profit = 0\n",
    "        for i in range(1, len(prices)):\n",
    "            if prices[i] > prices[i-1]:\n",
    "                profit += prices[i]-prices[i-1]\n",
    "        return profit"
   ]
  },
  {
   "cell_type": "code",
   "execution_count": null,
   "metadata": {},
   "outputs": [],
   "source": [
    "eq(Solution().maxProfit([7,1,5,3,6,4]), 7)"
   ]
  },
  {
   "cell_type": "markdown",
   "metadata": {},
   "source": [
    "## 139 [Word Break](https://leetcode.com/problems/word-break/) - M"
   ]
  },
  {
   "cell_type": "markdown",
   "metadata": {},
   "source": [
    "### Bottom Up, Two Pointers"
   ]
  },
  {
   "cell_type": "markdown",
   "metadata": {},
   "source": [
    "* Runtime: 32 ms, faster than 88.06% of Python3 online submissions for Word Break.\n",
    "* Memory Usage: 12.7 MB, less than 100.00% of Python3 online submissions for Word Break."
   ]
  },
  {
   "cell_type": "code",
   "execution_count": null,
   "metadata": {
    "ExecuteTime": {
     "end_time": "2020-02-22T08:49:07.344370Z",
     "start_time": "2020-02-22T08:49:07.338398Z"
    }
   },
   "outputs": [],
   "source": [
    "from collections import defaultdict\n",
    "class Solution:\n",
    "    def wordBreak(self, s: str, wordDict: List[str]) -> bool:\n",
    "        '''Check whether there is a word break by DP bottom up.'''\n",
    "        # dp[i] = wordBreak(s[:i], wordDict)\n",
    "        dp = defaultdict(bool)\n",
    "        dp[0] = True\n",
    "        # dp[hi] = dp[lo] && dp[lo:hi] in wordDict\n",
    "        for lo in range(len(s)):\n",
    "            if not dp[lo]:\n",
    "                continue\n",
    "            for word in wordDict:\n",
    "                hi = lo + len(word)\n",
    "                if s[lo:hi] == word:\n",
    "                    dp[hi] = True\n",
    "        return dp[len(s)]"
   ]
  },
  {
   "cell_type": "code",
   "execution_count": null,
   "metadata": {
    "ExecuteTime": {
     "end_time": "2020-02-22T08:49:09.027141Z",
     "start_time": "2020-02-22T08:49:09.018112Z"
    }
   },
   "outputs": [],
   "source": [
    "# test\n",
    "eq(Solution().wordBreak(\"leetcode\", [\"leet\", \"code\"]), True)\n",
    "eq(Solution().wordBreak(\"applepenapple\", [\"apple\", \"pen\"]), True)\n",
    "eq(Solution().wordBreak(\"catsandog\", [\"cats\", \"dog\", \"sand\", \"and\", \"cat\"]), False)\n",
    "eq(Solution().wordBreak(\"acaaaaabbbdbcccdcdaadcdccacbcccabbbbcdaaaaaadb\", [\"abbcbda\",\"cbdaaa\",\"b\",\"dadaaad\",\"dccbbbc\",\"dccadd\",\"ccbdbc\",\"bbca\",\"bacbcdd\",\"a\",\"bacb\",\"cbc\",\"adc\",\"c\",\"cbdbcad\",\"cdbab\",\"db\",\"abbcdbd\",\"bcb\",\"bbdab\",\"aa\",\"bcadb\",\"bacbcb\",\"ca\",\"dbdabdb\",\"ccd\",\"acbb\",\"bdc\",\"acbccd\",\"d\",\"cccdcda\",\"dcbd\",\"cbccacd\",\"ac\",\"cca\",\"aaddc\",\"dccac\",\"ccdc\",\"bbbbcda\",\"ba\",\"adbcadb\",\"dca\",\"abd\",\"bdbb\",\"ddadbad\",\"badb\",\"ab\",\"aaaaa\",\"acba\",\"abbb\"]), True)"
   ]
  },
  {
   "cell_type": "markdown",
   "metadata": {},
   "source": [
    "### Bottom Up Ver.2"
   ]
  },
  {
   "cell_type": "markdown",
   "metadata": {},
   "source": [
    "* Runtime: 36 ms, faster than 70.93% of Python3 online submissions for Word Break.\n",
    "* Memory Usage: 12.9 MB, less than 100.00% of Python3 online submissions for Word Break."
   ]
  },
  {
   "cell_type": "code",
   "execution_count": null,
   "metadata": {
    "ExecuteTime": {
     "end_time": "2020-02-22T08:50:54.439665Z",
     "start_time": "2020-02-22T08:50:54.434666Z"
    }
   },
   "outputs": [],
   "source": [
    "class Solution:\n",
    "    def wordBreak(self, s: str, wordDict: List[str]) -> bool:\n",
    "        '''Check whether there is a word break by DP bottom up.'''\n",
    "        # i in true_points if wordBreak(s[:i], wordDict) == True\n",
    "        true_points = [0]\n",
    "        \n",
    "        for lo in true_points:\n",
    "            for word in wordDict:\n",
    "                hi = lo + len(word)\n",
    "                # CAUTION: Do not forget this to trim searching!\n",
    "                if hi in true_points:\n",
    "                    continue\n",
    "                if s[lo:hi] == word:\n",
    "                    true_points.append(hi)\n",
    "        return len(s) in true_points"
   ]
  },
  {
   "cell_type": "code",
   "execution_count": null,
   "metadata": {
    "ExecuteTime": {
     "end_time": "2020-02-22T08:50:56.001191Z",
     "start_time": "2020-02-22T08:50:55.993209Z"
    }
   },
   "outputs": [],
   "source": [
    "# test\n",
    "eq(Solution().wordBreak(\"leetcode\", [\"leet\", \"code\"]), True)\n",
    "eq(Solution().wordBreak(\"applepenapple\", [\"apple\", \"pen\"]), True)\n",
    "eq(Solution().wordBreak(\"catsandog\", [\"cats\", \"dog\", \"sand\", \"and\", \"cat\"]), False)\n",
    "eq(Solution().wordBreak(\"acaaaaabbbdbcccdcdaadcdccacbcccabbbbcdaaaaaadb\", [\"abbcbda\",\"cbdaaa\",\"b\",\"dadaaad\",\"dccbbbc\",\"dccadd\",\"ccbdbc\",\"bbca\",\"bacbcdd\",\"a\",\"bacb\",\"cbc\",\"adc\",\"c\",\"cbdbcad\",\"cdbab\",\"db\",\"abbcdbd\",\"bcb\",\"bbdab\",\"aa\",\"bcadb\",\"bacbcb\",\"ca\",\"dbdabdb\",\"ccd\",\"acbb\",\"bdc\",\"acbccd\",\"d\",\"cccdcda\",\"dcbd\",\"cbccacd\",\"ac\",\"cca\",\"aaddc\",\"dccac\",\"ccdc\",\"bbbbcda\",\"ba\",\"adbcadb\",\"dca\",\"abd\",\"bdbb\",\"ddadbad\",\"badb\",\"ab\",\"aaaaa\",\"acba\",\"abbb\"]), True)"
   ]
  },
  {
   "cell_type": "markdown",
   "metadata": {},
   "source": [
    "## 140 [Word Break II](https://leetcode.com/problems/word-break-ii/) - H"
   ]
  },
  {
   "cell_type": "markdown",
   "metadata": {},
   "source": [
    "### DFS with Top Down "
   ]
  },
  {
   "cell_type": "markdown",
   "metadata": {},
   "source": [
    "* Runtime: 52 ms, faster than 43.46% of Python3 online submissions for Word Break II.\n",
    "* Memory Usage: 13 MB, less than 100.00% of Python3 online submissions for Word Break II."
   ]
  },
  {
   "cell_type": "code",
   "execution_count": null,
   "metadata": {
    "ExecuteTime": {
     "end_time": "2020-02-22T10:29:38.352646Z",
     "start_time": "2020-02-22T10:29:38.346112Z"
    }
   },
   "outputs": [],
   "source": [
    "class Solution:\n",
    "    def wordBreak(self, s: str, wordDict: List[str]) -> List[str]:\n",
    "        '''''Word Break II using DP top down and DFS.'''\n",
    "        words = set(wordDict)\n",
    "        n = len(s)\n",
    "        self.memo = {}\n",
    "        \n",
    "        def dfs(lo: int) -> List[str]:\n",
    "            '''Answer of wordBreak(s[:lo], wordDict)'''\n",
    "            if lo == len(s):\n",
    "                return [[]]\n",
    "            if lo in self.memo:\n",
    "                return self.memo[lo]\n",
    "            sub_words = []\n",
    "            for word in words:\n",
    "                hi = lo + len(word)\n",
    "                if s[lo: hi] == word:\n",
    "                    sub_words += [[word] + next_word for next_word in dfs(hi)]\n",
    "            self.memo[lo] = sub_words\n",
    "            return sub_words\n",
    "        \n",
    "        paths = dfs(0)\n",
    "        return [' '.join(path) for path in paths]"
   ]
  },
  {
   "cell_type": "code",
   "execution_count": null,
   "metadata": {
    "ExecuteTime": {
     "end_time": "2020-02-22T10:30:30.057518Z",
     "start_time": "2020-02-22T10:30:30.050519Z"
    }
   },
   "outputs": [],
   "source": [
    "# test\n",
    "eq(set(Solution().wordBreak(\"catsanddog\", [\"cat\", \"cats\", \"and\", \"sand\", \"dog\"])), set([\"cats and dog\", \"cat sand dog\"]))\n",
    "eq(set(Solution().wordBreak(\"pineapplepenapple\", [\"apple\", \"pen\", \"applepen\", \"pine\", \"pineapple\"])), set([\"pine apple pen apple\", \"pineapple pen apple\", \"pine applepen apple\"]))\n",
    "eq(set(Solution().wordBreak(\"catsandog\", [\"cats\", \"dog\", \"sand\", \"and\", \"cat\"])), set([]))\n",
    "eq(set(Solution().wordBreak(\"aaaaaaaaaaaaaaaaaaaaaaaaaaaaaaaaaaaaaaaaaaaaaaaaaaaaaaaaaaaaaaaaaaaaaaaaaaabaaaaaaaaaaaaaaaaaaaaaaaaaaaaaaaaaaaaaaaaaaaaaaaaaaaaaaaaaaaaaaaaaaaaaaaaaaa\", [\"a\",\"aa\",\"aaa\",\"aaaa\",\"aaaaa\",\"aaaaaa\",\"aaaaaaa\",\"aaaaaaaa\",\"aaaaaaaaa\",\"aaaaaaaaaa\"])), set([]))"
   ]
  },
  {
   "cell_type": "markdown",
   "metadata": {},
   "source": [
    "## 135 [Candy](https://leetcode.com/problems/candy/) - H"
   ]
  },
  {
   "cell_type": "markdown",
   "metadata": {},
   "source": [
    "### Single Pass"
   ]
  },
  {
   "cell_type": "markdown",
   "metadata": {},
   "source": [
    "* [Solution](https://leetcode.com/articles/candy/)"
   ]
  },
  {
   "cell_type": "code",
   "execution_count": null,
   "metadata": {},
   "outputs": [],
   "source": [
    "# class Solution:\n",
    "#     def candy(self, ratings: List[int]) -> int:\n",
    "#         '''Giving minimum candies to children.'''\n",
    "#         if not ratings:\n",
    "#             return 0\n",
    "#         up_combo, down_combo = 1, 1\n",
    "#         candy = 1\n",
    "#         for i in range(1, len(ratings)):\n",
    "#             if ratings[i-1] < ratings[i]:\n",
    "#                 if i > 1 and ratings[i-2] > ratings[i-1]:\n",
    "#                     up_combo = 1\n",
    "#                 up_combo += 1\n",
    "#                 candy += up_combo\n",
    "#             elif ratings[i-1] > ratings[i]:\n",
    "#                 if i > 1 and ratings[i-2] < ratings[i-1]:\n",
    "#                     down_combo = up_combo\n",
    "#                 if up_combo > 1:\n",
    "#                     up_combo -= 1\n",
    "#                     candy += up_combo\n",
    "#                 else:\n",
    "#                     down_combo += 1\n",
    "#                     candy += down_combo\n",
    "#             else:\n",
    "#                 up_combo, down_combo = 1, 1\n",
    "#                 candy += 1\n",
    "#         return candy"
   ]
  },
  {
   "cell_type": "code",
   "execution_count": null,
   "metadata": {},
   "outputs": [],
   "source": [
    "eq(Solution().candy([]), 0)\n",
    "eq(Solution().candy([1]), 1)\n",
    "eq(Solution().candy([1,0,2]), 5)\n",
    "eq(Solution().candy([1,2,2]), 4)\n",
    "eq(Solution().candy([3,2,1,0,0,2]), 13)\n",
    "eq(Solution().candy([1,3,2,1,0,0,2]), 14)\n",
    "eq(Solution().candy([1,3,2,2,1]), 7)\n",
    "eq(Solution().candy([1,2,87,87,87,2,1]), 13)\n",
    "eq(Solution().candy([1,3,4,5,2]), 11)"
   ]
  }
 ],
 "metadata": {
  "file_extension": ".py",
  "kernelspec": {
   "display_name": "Python 3",
   "language": "python",
   "name": "python3"
  },
  "language_info": {
   "codemirror_mode": {
    "name": "ipython",
    "version": 3
   },
   "file_extension": ".py",
   "mimetype": "text/x-python",
   "name": "python",
   "nbconvert_exporter": "python",
   "pygments_lexer": "ipython3",
   "version": "3.6.9"
  },
  "mimetype": "text/x-python",
  "name": "python",
  "npconvert_exporter": "python",
  "pygments_lexer": "ipython3",
  "toc": {
   "base_numbering": 1,
   "nav_menu": {},
   "number_sections": false,
   "sideBar": true,
   "skip_h1_title": true,
   "title_cell": "Table of Contents",
   "title_sidebar": "Contents",
   "toc_cell": false,
   "toc_position": {
    "height": "calc(100% - 180px)",
    "left": "10px",
    "top": "150px",
    "width": "255.594px"
   },
   "toc_section_display": true,
   "toc_window_display": true
  },
  "version": 3
 },
 "nbformat": 4,
 "nbformat_minor": 2
}
